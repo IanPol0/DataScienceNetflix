{
  "nbformat": 4,
  "nbformat_minor": 0,
  "metadata": {
    "colab": {
      "provenance": [],
      "collapsed_sections": [],
      "include_colab_link": true
    },
    "kernelspec": {
      "name": "python3",
      "display_name": "Python 3"
    },
    "language_info": {
      "name": "python"
    }
  },
  "cells": [
    {
      "cell_type": "markdown",
      "metadata": {
        "id": "view-in-github",
        "colab_type": "text"
      },
      "source": [
        "<a href=\"https://colab.research.google.com/github/IanPol0/DataScienceNetflix/blob/main/DataScienceNetflix.ipynb\" target=\"_parent\"><img src=\"https://colab.research.google.com/assets/colab-badge.svg\" alt=\"Open In Colab\"/></a>"
      ]
    },
    {
      "cell_type": "markdown",
      "source": [
        "##LAS FUNCIONES EN CAMELCASE Y LAS VARIABLES EN SNAKECASE Y RESPETENLO\n",
        "##Los subtitulos en \"##\", Los ejercicios en \"###\""
      ],
      "metadata": {
        "id": "rDwR75eSeM60"
      }
    },
    {
      "cell_type": "markdown",
      "source": [
        "#Trabajo Práctico Netflix\n",
        "Septiembre 2022"
      ],
      "metadata": {
        "id": "Ctl8A80kHIrn"
      }
    },
    {
      "cell_type": "markdown",
      "source": [
        "##Import"
      ],
      "metadata": {
        "id": "D5S8ztBv7NJX"
      }
    },
    {
      "cell_type": "code",
      "source": [
        "import pandas as pd\n",
        "import matplotlib.pyplot as plt"
      ],
      "metadata": {
        "id": "BmWfAz2XaV2Z"
      },
      "execution_count": 1,
      "outputs": []
    },
    {
      "cell_type": "code",
      "execution_count": 2,
      "metadata": {
        "id": "6Ac_H_VrV5BW"
      },
      "outputs": [],
      "source": [
        "url=\"https://raw.githubusercontent.com/IanPol0/DataScienceNetflix/main/NetflixHistory.csv\"\n",
        "history = pd.read_csv(url)"
      ]
    },
    {
      "cell_type": "markdown",
      "source": [
        "##Delete devices not required"
      ],
      "metadata": {
        "id": "Dri9bpF5BeBT"
      }
    },
    {
      "cell_type": "code",
      "source": [
        "devices_remove = ['Sony PS4', 'Netflix Windows App - Cadmium Windows Mobile', \n",
        "'Apple iPhone 6s', 'Apple iPhone 7 Plus (CDMA)', 'Chrome PC (Cadmium)', 'Samsung 2015 NT14M DTV Smart TV', \n",
        "'iPhone 5S GSM', 'Google Chromecast V3 Streaming Stick']\n",
        "\n",
        "#omit devices not required\n",
        "for device in devices_remove:\n",
        "  history = history.loc[history[\"Device Type\"] != device, :]"
      ],
      "metadata": {
        "id": "wdgj0S33FUlg"
      },
      "execution_count": 3,
      "outputs": []
    },
    {
      "cell_type": "markdown",
      "source": [
        "##Adapt time"
      ],
      "metadata": {
        "id": "k0kMwHsAd0pP"
      }
    },
    {
      "cell_type": "code",
      "source": [
        "#returns hours, minutes and seconds in seconds\n",
        "def toSeconds(time_str):\n",
        "  h, m, s = time_str.split(':')\n",
        "  return int(h) * 3600 + int(m) * 60 + int(s)"
      ],
      "metadata": {
        "id": "v7nGK8OEd6jj"
      },
      "execution_count": 4,
      "outputs": []
    },
    {
      "cell_type": "markdown",
      "source": [
        "##Exercises"
      ],
      "metadata": {
        "id": "pjYFQwUwHThV"
      }
    },
    {
      "cell_type": "markdown",
      "source": [
        "###a) Contabilizar el dispositivo con el que más títulos se reprodujeron."
      ],
      "metadata": {
        "id": "V0fzAw35G-o6"
      }
    },
    {
      "cell_type": "code",
      "source": [
        "devices_compare = {}\n",
        "\n",
        "for dev in history[\"Device Type\"]:\n",
        "  if dev not in devices_compare:\n",
        "    devices_compare[dev] = 1\n",
        "  else:\n",
        "    devices_compare[dev] += 1"
      ],
      "metadata": {
        "id": "fNaIbrw0HC0_"
      },
      "execution_count": 11,
      "outputs": []
    },
    {
      "cell_type": "code",
      "source": [
        "max(devices_compare, key=devices_compare.get)"
      ],
      "metadata": {
        "colab": {
          "base_uri": "https://localhost:8080/",
          "height": 35
        },
        "id": "RwmPW_rn2Ogm",
        "outputId": "a56da46b-88f2-42c2-b896-f829d63e8075"
      },
      "execution_count": 12,
      "outputs": [
        {
          "output_type": "execute_result",
          "data": {
            "text/plain": [
              "'Apple Apple TV 4 Apple TV'"
            ],
            "application/vnd.google.colaboratory.intrinsic+json": {
              "type": "string"
            }
          },
          "metadata": {},
          "execution_count": 12
        }
      ]
    },
    {
      "cell_type": "markdown",
      "source": [
        "###b) Encontrar la película con más ocurrencias y la película con mayor duración total."
      ],
      "metadata": {
        "id": "WP27lLfy5bpP"
      }
    },
    {
      "cell_type": "code",
      "source": [],
      "metadata": {
        "id": "ipWs2_Nq5ecv"
      },
      "execution_count": null,
      "outputs": []
    },
    {
      "cell_type": "markdown",
      "source": [
        "###c) Generar un TOP “N” de series vistas y graficar."
      ],
      "metadata": {
        "id": "P0aNhf9Y5e9R"
      }
    },
    {
      "cell_type": "markdown",
      "source": [
        "####i) Por tiempo visto."
      ],
      "metadata": {
        "id": "5I-b1uiu5lqq"
      }
    },
    {
      "cell_type": "code",
      "source": [],
      "metadata": {
        "id": "s_5RdrNc5k8G"
      },
      "execution_count": null,
      "outputs": []
    },
    {
      "cell_type": "markdown",
      "source": [
        "####ii) Por ocurrencias."
      ],
      "metadata": {
        "id": "5wD0V1ZX5qAR"
      }
    },
    {
      "cell_type": "code",
      "source": [],
      "metadata": {
        "id": "L0PROIwS5uda"
      },
      "execution_count": null,
      "outputs": []
    },
    {
      "cell_type": "markdown",
      "source": [
        "###d) Visualizar una semana de reproducciones genérica, en función a las reproducciones por día y por horario de todos los años."
      ],
      "metadata": {
        "id": "UokvhtTC5t5m"
      }
    },
    {
      "cell_type": "code",
      "source": [],
      "metadata": {
        "id": "VSObANRw57_P"
      },
      "execution_count": null,
      "outputs": []
    },
    {
      "cell_type": "markdown",
      "source": [
        "###e) Contabilizar la cantidad de títulos vistos por año, graficar su variación a través de los años."
      ],
      "metadata": {
        "id": "5spwyUo06Ati"
      }
    },
    {
      "cell_type": "code",
      "source": [],
      "metadata": {
        "id": "JvV1EaEC6CMN"
      },
      "execution_count": null,
      "outputs": []
    },
    {
      "cell_type": "markdown",
      "source": [
        "#LINKS"
      ],
      "metadata": {
        "id": "7sH8H4cf3OYp"
      }
    },
    {
      "cell_type": "code",
      "source": [
        "# https://www.geeksforgeeks.org/how-to-count-distinct-values-of-a-pandas-dataframe-column/\n",
        "# https://www.analyticslane.com/2022/05/23/obtener-el-valor-maximo-de-un-diccionario-en-python/#:~:text=Para%20obtener%20los%20valores%20de,los%20valores%2C%20no%20las%20calves."
      ],
      "metadata": {
        "id": "PclhHLM43hbd"
      },
      "execution_count": null,
      "outputs": []
    }
  ]
}