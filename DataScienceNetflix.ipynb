{
  "nbformat": 4,
  "nbformat_minor": 0,
  "metadata": {
    "colab": {
      "provenance": [],
      "collapsed_sections": [],
      "include_colab_link": true
    },
    "kernelspec": {
      "name": "python3",
      "display_name": "Python 3"
    },
    "language_info": {
      "name": "python"
    }
  },
  "cells": [
    {
      "cell_type": "markdown",
      "metadata": {
        "id": "view-in-github",
        "colab_type": "text"
      },
      "source": [
        "<a href=\"https://colab.research.google.com/github/IanPol0/DataScienceNetflix/blob/main/DataScienceNetflix.ipynb\" target=\"_parent\"><img src=\"https://colab.research.google.com/assets/colab-badge.svg\" alt=\"Open In Colab\"/></a>"
      ]
    },
    {
      "cell_type": "markdown",
      "source": [
        "##LAS FUNCIONES EN CAMELCASE Y LAS VARIABLES EN SNAKECASE Y RESPETENLO\n",
        "##Los subtitulos en '##', Los ejercicios en '###'"
      ],
      "metadata": {
        "id": "rDwR75eSeM60"
      }
    },
    {
      "cell_type": "markdown",
      "source": [
        "#Trabajo Práctico Netflix\n",
        "Septiembre 2022"
      ],
      "metadata": {
        "id": "Ctl8A80kHIrn"
      }
    },
    {
      "cell_type": "markdown",
      "source": [
        "##Import"
      ],
      "metadata": {
        "id": "D5S8ztBv7NJX"
      }
    },
    {
      "cell_type": "code",
      "source": [
        "import pandas as pd\n",
        "import matplotlib.pyplot as plt\n",
        "import seaborn as sns\n",
        "from datetime import datetime\n",
        "import pytz\n",
        "import numpy as np"
      ],
      "metadata": {
        "id": "BmWfAz2XaV2Z"
      },
      "execution_count": 161,
      "outputs": []
    },
    {
      "cell_type": "code",
      "execution_count": 162,
      "metadata": {
        "id": "6Ac_H_VrV5BW"
      },
      "outputs": [],
      "source": [
        "url='https://raw.githubusercontent.com/IanPol0/DataScienceNetflix/main/NetflixHistory.csv'\n",
        "history = pd.read_csv(url)"
      ]
    },
    {
      "cell_type": "markdown",
      "source": [
        "##Delete devices not required"
      ],
      "metadata": {
        "id": "Dri9bpF5BeBT"
      }
    },
    {
      "cell_type": "code",
      "source": [
        "devices_remove = ['Sony PS4', 'Netflix Windows App - Cadmium Windows Mobile', \n",
        "'Apple iPhone 6s', 'Apple iPhone 7 Plus (CDMA)', 'Chrome PC (Cadmium)', 'Samsung 2015 NT14M DTV Smart TV', \n",
        "'iPhone 5S GSM', 'Google Chromecast V3 Streaming Stick']\n",
        "\n",
        "#delete devices not required\n",
        "for device in devices_remove:\n",
        "  #print(len(history), device)\n",
        "  history = history.drop(history.index[history['Device Type'] == device], inplace=False)\n",
        "  history = history.reset_index(drop=True)"
      ],
      "metadata": {
        "id": "wdgj0S33FUlg"
      },
      "execution_count": 163,
      "outputs": []
    },
    {
      "cell_type": "markdown",
      "source": [
        "##Adapt time"
      ],
      "metadata": {
        "id": "k0kMwHsAd0pP"
      }
    },
    {
      "cell_type": "code",
      "source": [
        "#returns hours, minutes and seconds in seconds\n",
        "def toSeconds(time_str):\n",
        "  h, m, s = time_str.split(':')\n",
        "  return int(h) * 3600 + int(m) * 60 + int(s)"
      ],
      "metadata": {
        "id": "v7nGK8OEd6jj"
      },
      "execution_count": 164,
      "outputs": []
    },
    {
      "cell_type": "markdown",
      "source": [
        "##Divide series and movies"
      ],
      "metadata": {
        "id": "ClCgc_08Wn7F"
      }
    },
    {
      "cell_type": "code",
      "source": [
        "identificator = []\n",
        "\n",
        "for i in range(len(history['Title'])):\n",
        "  if history['Title'][i].__contains__('Temporada'):\n",
        "    identificator.append('serie')\n",
        "  elif history['Title'][i].__contains__('Capítulo'): \n",
        "    identificator.append('serie')\n",
        "  elif history['Title'][i].__contains__('Season'): \n",
        "    identificator.append('serie')\n",
        "  elif history['Title'][i].__contains__('Clip'): \n",
        "    identificator.append('serie')\n",
        "  elif history['Title'][i].__contains__('Resumen'): \n",
        "    identificator.append('serie')\n",
        "  elif history['Title'][i].__contains__('Tráiler'): \n",
        "    identificator.append('serie')\n",
        "  elif history['Title'][i].__contains__('Series'): \n",
        "    identificator.append('serie')\n",
        "  else:\n",
        "    identificator.append('movie')\n",
        "\n",
        "history['Type'] = identificator"
      ],
      "metadata": {
        "id": "3BZnX3LkEFW0"
      },
      "execution_count": 165,
      "outputs": []
    },
    {
      "cell_type": "code",
      "source": [
        "series = history[history['Type'] == 'serie']\n",
        "series = series.reset_index(drop=True)\n",
        "movies = history[history['Type'] == 'movie']\n",
        "movies = movies.reset_index(drop=True)\n",
        "del history['Type'], series['Type'], movies['Type']"
      ],
      "metadata": {
        "id": "3No1PuxjWuFn"
      },
      "execution_count": 166,
      "outputs": []
    },
    {
      "cell_type": "markdown",
      "source": [
        "##Exercises"
      ],
      "metadata": {
        "id": "pjYFQwUwHThV"
      }
    },
    {
      "cell_type": "markdown",
      "source": [
        "###a) Contabilizar el dispositivo con el que más títulos se reprodujeron."
      ],
      "metadata": {
        "id": "V0fzAw35G-o6"
      }
    },
    {
      "cell_type": "code",
      "source": [
        "devices_compare = {}\n",
        "\n",
        "for dev in history['Device Type']:\n",
        "  if dev not in devices_compare:\n",
        "    devices_compare[dev] = 1\n",
        "  else:\n",
        "    devices_compare[dev] += 1\n",
        "\n",
        "max(devices_compare, key=devices_compare.get)"
      ],
      "metadata": {
        "id": "fNaIbrw0HC0_",
        "colab": {
          "base_uri": "https://localhost:8080/",
          "height": 35
        },
        "outputId": "1cb40474-026e-40ce-bd55-9f4179c8f97f"
      },
      "execution_count": 167,
      "outputs": [
        {
          "output_type": "execute_result",
          "data": {
            "text/plain": [
              "'Apple Apple TV 4 Apple TV'"
            ],
            "application/vnd.google.colaboratory.intrinsic+json": {
              "type": "string"
            }
          },
          "metadata": {},
          "execution_count": 167
        }
      ]
    },
    {
      "cell_type": "markdown",
      "source": [
        "###b) Encontrar la película con más ocurrencias y la película con mayor duración total."
      ],
      "metadata": {
        "id": "WP27lLfy5bpP"
      }
    },
    {
      "cell_type": "code",
      "source": [
        "movies_compare = {}\n",
        "\n",
        "for mov in movies['Title']:\n",
        "  if mov not in movies_compare:\n",
        "    movies_compare[mov] = 1\n",
        "  else:\n",
        "    movies_compare[mov] += 1\n",
        "\n",
        "max(movies_compare, key=movies_compare.get)"
      ],
      "metadata": {
        "id": "oKOLZwVwLdMy",
        "colab": {
          "base_uri": "https://localhost:8080/",
          "height": 35
        },
        "outputId": "7e6d1490-21cb-40aa-9cc1-8e0267f47d32"
      },
      "execution_count": 168,
      "outputs": [
        {
          "output_type": "execute_result",
          "data": {
            "text/plain": [
              "'Star Wars: El Imperio contraataca'"
            ],
            "application/vnd.google.colaboratory.intrinsic+json": {
              "type": "string"
            }
          },
          "metadata": {},
          "execution_count": 168
        }
      ]
    },
    {
      "cell_type": "code",
      "source": [
        "movies_duration = {}\n",
        "\n",
        "for mov in movies.index:\n",
        "  if movies['Title'][mov] not in movies_duration:\n",
        "    movies_duration[movies['Title'][mov]] = toSeconds(movies['Duration'][mov])\n",
        "  else:\n",
        "    movies_duration[movies['Title'][mov]] += toSeconds(movies['Duration'][mov])\n",
        "\n",
        "max(movies_duration, key=movies_duration.get)"
      ],
      "metadata": {
        "colab": {
          "base_uri": "https://localhost:8080/",
          "height": 35
        },
        "id": "0fgNnSFlaujR",
        "outputId": "16ab43f6-e1e8-46b7-bfeb-f8e10ce23e7c"
      },
      "execution_count": 169,
      "outputs": [
        {
          "output_type": "execute_result",
          "data": {
            "text/plain": [
              "'Star Wars: El Imperio contraataca'"
            ],
            "application/vnd.google.colaboratory.intrinsic+json": {
              "type": "string"
            }
          },
          "metadata": {},
          "execution_count": 169
        }
      ]
    },
    {
      "cell_type": "markdown",
      "source": [
        "###c) Generar un TOP “N” de series vistas y graficar."
      ],
      "metadata": {
        "id": "P0aNhf9Y5e9R"
      }
    },
    {
      "cell_type": "markdown",
      "source": [
        "####i) Por tiempo visto."
      ],
      "metadata": {
        "id": "5I-b1uiu5lqq"
      }
    },
    {
      "cell_type": "code",
      "source": [
        "series_duration = {}\n",
        "name = ''\n",
        "\n",
        "for ser in series.index:\n",
        "  name = (series['Title'][ser].split(':'))[0]\n",
        "  if name not in series_duration:\n",
        "    series_duration[name] = toSeconds(series['Duration'][ser])\n",
        "  else:\n",
        "    series_duration[name] += toSeconds(series['Duration'][ser])\n",
        "\n",
        "max(series_duration, key=series_duration.get)"
      ],
      "metadata": {
        "colab": {
          "base_uri": "https://localhost:8080/",
          "height": 35
        },
        "id": "HKOEKTHrXJta",
        "outputId": "bd607776-b1f4-4ad8-cadb-e48410a16b36"
      },
      "execution_count": 170,
      "outputs": [
        {
          "output_type": "execute_result",
          "data": {
            "text/plain": [
              "'Cómo conocí a tu madre'"
            ],
            "application/vnd.google.colaboratory.intrinsic+json": {
              "type": "string"
            }
          },
          "metadata": {},
          "execution_count": 170
        }
      ]
    },
    {
      "cell_type": "code",
      "source": [
        "temp, final = {}, {}\n",
        "temp = series_duration\n",
        "for i in range(20):\n",
        "  final[max(temp, key=temp.get)] = temp[max(temp, key=temp.get)]\n",
        "  temp[max(temp, key=temp.get)] = 0\n",
        "plt.bar(final.keys(), final.values())\n",
        "plt.xticks(rotation = 90)\n",
        "plt.show()"
      ],
      "metadata": {
        "id": "s_5RdrNc5k8G",
        "colab": {
          "base_uri": "https://localhost:8080/",
          "height": 377
        },
        "outputId": "7ebfb892-2aa4-4682-9a3c-b85433ee38be"
      },
      "execution_count": 171,
      "outputs": [
        {
          "output_type": "display_data",
          "data": {
            "text/plain": [
              "<Figure size 432x288 with 1 Axes>"
            ],
            "image/png": "[encoded data removed]"
          },
          "metadata": {
            "needs_background": "light"
          }
        }
      ]
    },
    {
      "cell_type": "markdown",
      "source": [
        "####ii) Por ocurrencias."
      ],
      "metadata": {
        "id": "5wD0V1ZX5qAR"
      }
    },
    {
      "cell_type": "code",
      "source": [
        "series_occurences = {}\n",
        "name = ''\n",
        "\n",
        "for ser in series.index:\n",
        "  name = (series['Title'][ser].split(':'))[0]\n",
        "  if name not in series_occurences:\n",
        "    series_occurences[name] = 1\n",
        "  else:\n",
        "    series_occurences[name] += 1\n",
        "\n",
        "max(series_occurences, key=series_occurences.get)"
      ],
      "metadata": {
        "colab": {
          "base_uri": "https://localhost:8080/",
          "height": 35
        },
        "id": "VNzrVWY3dntR",
        "outputId": "53afaa20-8c02-42dc-cede-e5b5769c8407"
      },
      "execution_count": 172,
      "outputs": [
        {
          "output_type": "execute_result",
          "data": {
            "text/plain": [
              "'Community'"
            ],
            "application/vnd.google.colaboratory.intrinsic+json": {
              "type": "string"
            }
          },
          "metadata": {},
          "execution_count": 172
        }
      ]
    },
    {
      "cell_type": "code",
      "source": [
        "temp2, final2 = {}, {}\n",
        "temp2 = series_occurences\n",
        "for i in range(20):\n",
        "  final2[max(temp2, key=temp2.get)] = temp2[max(temp2, key=temp2.get)]\n",
        "  temp2[max(temp2, key=temp2.get)] = 0\n",
        "plt.bar(final2.keys(), final2.values())\n",
        "plt.xticks(rotation = 90)\n",
        "plt.show()"
      ],
      "metadata": {
        "id": "L0PROIwS5uda",
        "colab": {
          "base_uri": "https://localhost:8080/",
          "height": 377
        },
        "outputId": "20814045-18ae-4612-9456-192eeec98d62"
      },
      "execution_count": 173,
      "outputs": [
        {
          "output_type": "display_data",
          "data": {
            "text/plain": [
              "<Figure size 432x288 with 1 Axes>"
            ],
            "image/png": "[encoded data removed]"
          },
          "metadata": {
            "needs_background": "light"
          }
        }
      ]
    },
    {
      "cell_type": "markdown",
      "source": [
        "###d) Visualizar una semana de reproducciones genérica, en función a las reproducciones por día y por horario de todos los años."
      ],
      "metadata": {
        "id": "UokvhtTC5t5m"
      }
    },
    {
      "cell_type": "code",
      "source": [
        "week = ['Monday', 'Tuesday', 'Wednesday', 'Thursday', 'Friday', 'Saturday', 'Sunday']\n",
        "hours = ['00', '01', '02', '03', '04', '05', '06', '07', '08', '09', '10', '11', '12', '13', '14', '15', '16', '17', '18', '19', '20', '21', '22', '23', '24']\n",
        "\n",
        "df = pd.DataFrame(index=hours, columns=week)\n",
        "for col in df.columns:\n",
        "    df[col].values[:] = 0\n",
        "\n",
        "for day in history['Start Time']:\n",
        "  week_day = (day.split('-'))[0]+ '-' +(day.split('-'))[1]+ '-' +((day.split('-'))[2]).split()[0]\n",
        "  week_day = datetime.strptime(week_day, \"%Y-%m-%d\")\n",
        "  week_day = week[week_day.weekday()]\n",
        "  hour = ((day.split('-')[2]).split()[1]).split(':')[0]\n",
        "  df[week_day][hour] += 1\n",
        "\n",
        "df = df.astype(np.float64)\n",
        "ax = sns.heatmap(df, cmap='viridis')"
      ],
      "metadata": {
        "id": "GjRiWzF4hU8w",
        "colab": {
          "base_uri": "https://localhost:8080/",
          "height": 315
        },
        "outputId": "1d29e23b-ad18-40e2-9923-89f1c01343ad"
      },
      "execution_count": 174,
      "outputs": [
        {
          "output_type": "display_data",
          "data": {
            "text/plain": [
              "<Figure size 432x288 with 2 Axes>"
            ],
            "image/png": "[encoded data removed]"
          },
          "metadata": {
            "needs_background": "light"
          }
        }
      ]
    },
    {
      "cell_type": "markdown",
      "source": [
        "###e) Contabilizar la cantidad de títulos vistos por año, graficar su variación a través de los años."
      ],
      "metadata": {
        "id": "5spwyUo06Ati"
      }
    },
    {
      "cell_type": "code",
      "source": [
        "titulos_anios = {}\n",
        "anio = ''\n",
        "\n",
        "for title in history.index:\n",
        "  anio = (history['Start Time'][title].split('-'))[0]\n",
        "  if anio not in titulos_anios:\n",
        "    titulos_anios[anio] = 1\n",
        "  else:\n",
        "    titulos_anios[anio] += 1\n",
        "\n",
        "plt.bar(titulos_anios.keys(), titulos_anios.values())\n",
        "plt.xticks(rotation = 90)\n",
        "plt.show()"
      ],
      "metadata": {
        "id": "JvV1EaEC6CMN",
        "colab": {
          "base_uri": "https://localhost:8080/",
          "height": 281
        },
        "outputId": "f1402216-7d30-4f08-d022-d6a56552d408"
      },
      "execution_count": 175,
      "outputs": [
        {
          "output_type": "display_data",
          "data": {
            "text/plain": [
              "<Figure size 432x288 with 1 Axes>"
            ],
            "image/png": "[encoded data removed]"
          },
          "metadata": {
            "needs_background": "light"
          }
        }
      ]
    },
    {
      "cell_type": "markdown",
      "source": [
        "###f) Total de días de todos los títulos reproducidos."
      ],
      "metadata": {
        "id": "BWyYF55ZnCQc"
      }
    },
    {
      "cell_type": "code",
      "source": [
        "total_days = []\n",
        "day = ''\n",
        "\n",
        "for day in history['Start Time']:\n",
        "  day = (day.split('-'))[0]+ '/' +(day.split('-'))[1]+ '/' +((day.split('-'))[2]).split()[0]\n",
        "  if day not in total_days:\n",
        "    total_days.append(day)\n",
        "\n",
        "len(total_days)"
      ],
      "metadata": {
        "colab": {
          "base_uri": "https://localhost:8080/"
        },
        "id": "HtVOWMzHnFx6",
        "outputId": "35b0cb57-ddb0-4f0b-a21e-f11916db2835"
      },
      "execution_count": 176,
      "outputs": [
        {
          "output_type": "execute_result",
          "data": {
            "text/plain": [
              "928"
            ]
          },
          "metadata": {},
          "execution_count": 176
        }
      ]
    },
    {
      "cell_type": "markdown",
      "source": [
        "##Bonus"
      ],
      "metadata": {
        "id": "ryDQriLzqdYo"
      }
    },
    {
      "cell_type": "markdown",
      "source": [
        "###1. Identificar cuál fue la película de Star Wars más veces vista por duración."
      ],
      "metadata": {
        "id": "EppezCb7qfs8"
      }
    },
    {
      "cell_type": "code",
      "source": [
        "StarWars_duration = {}\n",
        "name = ''\n",
        "\n",
        "for mov in movies.index:\n",
        "  name = (movies['Title'][mov].split(':'))[0]\n",
        "  if name == 'Star Wars':\n",
        "    if movies['Title'][mov] not in StarWars_duration:\n",
        "      StarWars_duration[movies['Title'][mov]] = toSeconds(movies['Duration'][mov])\n",
        "    else:\n",
        "      StarWars_duration[movies['Title'][mov]] += toSeconds(movies['Duration'][mov])\n",
        "\n",
        "max(StarWars_duration, key=StarWars_duration.get)"
      ],
      "metadata": {
        "colab": {
          "base_uri": "https://localhost:8080/",
          "height": 35
        },
        "id": "Mh9TmtCIqkCN",
        "outputId": "941ea9f5-3c2a-49da-a157-355c55d2c9b3"
      },
      "execution_count": 177,
      "outputs": [
        {
          "output_type": "execute_result",
          "data": {
            "text/plain": [
              "'Star Wars: El Imperio contraataca'"
            ],
            "application/vnd.google.colaboratory.intrinsic+json": {
              "type": "string"
            }
          },
          "metadata": {},
          "execution_count": 177
        }
      ]
    }
  ]
}