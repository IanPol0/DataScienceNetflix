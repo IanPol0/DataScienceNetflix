{
  "nbformat": 4,
  "nbformat_minor": 0,
  "metadata": {
    "colab": {
      "provenance": [],
      "collapsed_sections": [
        "D5S8ztBv7NJX",
        "Dri9bpF5BeBT",
        "k0kMwHsAd0pP"
      ],
      "include_colab_link": true
    },
    "kernelspec": {
      "name": "python3",
      "display_name": "Python 3"
    },
    "language_info": {
      "name": "python"
    }
  },
  "cells": [
    {
      "cell_type": "markdown",
      "metadata": {
        "id": "view-in-github",
        "colab_type": "text"
      },
      "source": [
        "<a href=\"https://colab.research.google.com/github/IanPol0/DataScienceNetflix/blob/main/DataScienceNetflix.ipynb\" target=\"_parent\"><img src=\"https://colab.research.google.com/assets/colab-badge.svg\" alt=\"Open In Colab\"/></a>"
      ]
    },
    {
      "cell_type": "markdown",
      "source": [
        "##LAS FUNCIONES EN CAMELCASE Y LAS VARIABLES EN SNAKECASE Y RESPETENLO\n",
        "##Los subtitulos en '##', Los ejercicios en '###'"
      ],
      "metadata": {
        "id": "rDwR75eSeM60"
      }
    },
    {
      "cell_type": "markdown",
      "source": [
        "#Trabajo Práctico Netflix\n",
        "Septiembre 2022"
      ],
      "metadata": {
        "id": "Ctl8A80kHIrn"
      }
    },
    {
      "cell_type": "markdown",
      "source": [
        "##Import"
      ],
      "metadata": {
        "id": "D5S8ztBv7NJX"
      }
    },
    {
      "cell_type": "code",
      "source": [
        "import pandas as pd\n",
        "import matplotlib.pyplot as plt"
      ],
      "metadata": {
        "id": "BmWfAz2XaV2Z"
      },
      "execution_count": 1,
      "outputs": []
    },
    {
      "cell_type": "code",
      "execution_count": 2,
      "metadata": {
        "id": "6Ac_H_VrV5BW"
      },
      "outputs": [],
      "source": [
        "url='https://raw.githubusercontent.com/IanPol0/DataScienceNetflix/main/NetflixHistory.csv'\n",
        "history = pd.read_csv(url)"
      ]
    },
    {
      "cell_type": "markdown",
      "source": [
        "##Delete devices not required"
      ],
      "metadata": {
        "id": "Dri9bpF5BeBT"
      }
    },
    {
      "cell_type": "code",
      "source": [
        "devices_remove = ['Sony PS4', 'Netflix Windows App - Cadmium Windows Mobile', \n",
        "'Apple iPhone 6s', 'Apple iPhone 7 Plus (CDMA)', 'Chrome PC (Cadmium)', 'Samsung 2015 NT14M DTV Smart TV', \n",
        "'iPhone 5S GSM', 'Google Chromecast V3 Streaming Stick']\n",
        "\n",
        "#delete devices not required\n",
        "for device in devices_remove:\n",
        "  print(len(history), device)\n",
        "  history = history.drop(history.index[history['Device Type'] == device], inplace=False)\n",
        "  history = history.reset_index(drop=True)"
      ],
      "metadata": {
        "id": "wdgj0S33FUlg",
        "colab": {
          "base_uri": "https://localhost:8080/"
        },
        "outputId": "1a079cfe-3656-4907-c567-21734bc8a74d"
      },
      "execution_count": 3,
      "outputs": [
        {
          "output_type": "stream",
          "name": "stdout",
          "text": [
            "12997 Sony PS4\n",
            "12953 Netflix Windows App - Cadmium Windows Mobile\n",
            "12888 Apple iPhone 6s\n",
            "9203 Apple iPhone 7 Plus (CDMA)\n",
            "8741 Chrome PC (Cadmium)\n",
            "7569 Samsung 2015 NT14M DTV Smart TV\n",
            "6847 iPhone 5S GSM\n",
            "6292 Google Chromecast V3 Streaming Stick\n"
          ]
        }
      ]
    },
    {
      "cell_type": "markdown",
      "source": [
        "##Adapt time"
      ],
      "metadata": {
        "id": "k0kMwHsAd0pP"
      }
    },
    {
      "cell_type": "code",
      "source": [
        "#returns hours, minutes and seconds in seconds\n",
        "def toSeconds(time_str):\n",
        "  h, m, s = time_str.split(':')\n",
        "  return int(h) * 3600 + int(m) * 60 + int(s)"
      ],
      "metadata": {
        "id": "v7nGK8OEd6jj"
      },
      "execution_count": 4,
      "outputs": []
    },
    {
      "cell_type": "markdown",
      "source": [
        "##Divide series and movies"
      ],
      "metadata": {
        "id": "ClCgc_08Wn7F"
      }
    },
    {
      "cell_type": "code",
      "source": [
        "for i in range(len(history['Title'])):\n",
        "  if history['Title'][i].__contains__('Temporada'):\n",
        "    history['Type'][i] = 'serie'\n",
        "  elif history['Title'][i].__contains__('Capítulo'): \n",
        "    history['Type'][i] = 'serie'\n",
        "  elif history['Title'][i].__contains__('Season'): \n",
        "    history['Type'][i] = 'serie'\n",
        "  elif history['Title'][i].__contains__('Clip'): \n",
        "    history['Type'][i] = 'serie'\n",
        "  elif history['Title'][i].__contains__('Resumen'): \n",
        "    history['Type'][i] = 'serie'\n",
        "  elif history['Title'][i].__contains__('Tráiler'): \n",
        "    history['Type'][i] = 'serie'\n",
        "  else:\n",
        "    history['Type'][i] = 'movie'"
      ],
      "metadata": {
        "id": "3BZnX3LkEFW0",
        "colab": {
          "base_uri": "https://localhost:8080/"
        },
        "outputId": "642aa7c6-ce52-4d9e-b0cd-268407328fc0"
      },
      "execution_count": 22,
      "outputs": [
        {
          "output_type": "stream",
          "name": "stderr",
          "text": [
            "/usr/local/lib/python3.7/dist-packages/ipykernel_launcher.py:3: SettingWithCopyWarning: \n",
            "A value is trying to be set on a copy of a slice from a DataFrame\n",
            "\n",
            "See the caveats in the documentation: https://pandas.pydata.org/pandas-docs/stable/user_guide/indexing.html#returning-a-view-versus-a-copy\n",
            "  This is separate from the ipykernel package so we can avoid doing imports until\n",
            "/usr/local/lib/python3.7/dist-packages/ipykernel_launcher.py:7: SettingWithCopyWarning: \n",
            "A value is trying to be set on a copy of a slice from a DataFrame\n",
            "\n",
            "See the caveats in the documentation: https://pandas.pydata.org/pandas-docs/stable/user_guide/indexing.html#returning-a-view-versus-a-copy\n",
            "  import sys\n",
            "/usr/local/lib/python3.7/dist-packages/ipykernel_launcher.py:5: SettingWithCopyWarning: \n",
            "A value is trying to be set on a copy of a slice from a DataFrame\n",
            "\n",
            "See the caveats in the documentation: https://pandas.pydata.org/pandas-docs/stable/user_guide/indexing.html#returning-a-view-versus-a-copy\n",
            "  \"\"\"\n",
            "/usr/local/lib/python3.7/dist-packages/ipykernel_launcher.py:9: SettingWithCopyWarning: \n",
            "A value is trying to be set on a copy of a slice from a DataFrame\n",
            "\n",
            "See the caveats in the documentation: https://pandas.pydata.org/pandas-docs/stable/user_guide/indexing.html#returning-a-view-versus-a-copy\n",
            "  if __name__ == '__main__':\n",
            "/usr/local/lib/python3.7/dist-packages/ipykernel_launcher.py:11: SettingWithCopyWarning: \n",
            "A value is trying to be set on a copy of a slice from a DataFrame\n",
            "\n",
            "See the caveats in the documentation: https://pandas.pydata.org/pandas-docs/stable/user_guide/indexing.html#returning-a-view-versus-a-copy\n",
            "  # This is added back by InteractiveShellApp.init_path()\n",
            "/usr/local/lib/python3.7/dist-packages/ipykernel_launcher.py:15: SettingWithCopyWarning: \n",
            "A value is trying to be set on a copy of a slice from a DataFrame\n",
            "\n",
            "See the caveats in the documentation: https://pandas.pydata.org/pandas-docs/stable/user_guide/indexing.html#returning-a-view-versus-a-copy\n",
            "  from ipykernel import kernelapp as app\n",
            "/usr/local/lib/python3.7/dist-packages/ipykernel_launcher.py:13: SettingWithCopyWarning: \n",
            "A value is trying to be set on a copy of a slice from a DataFrame\n",
            "\n",
            "See the caveats in the documentation: https://pandas.pydata.org/pandas-docs/stable/user_guide/indexing.html#returning-a-view-versus-a-copy\n",
            "  del sys.path[0]\n"
          ]
        }
      ]
    },
    {
      "cell_type": "code",
      "source": [
        "history[history['Type']=='movie']"
      ],
      "metadata": {
        "colab": {
          "base_uri": "https://localhost:8080/",
          "height": 658
        },
        "id": "DUJkG6HGawkg",
        "outputId": "d4ca8138-41ba-41f0-d21a-bd3876d2a77b"
      },
      "execution_count": 23,
      "outputs": [
        {
          "output_type": "execute_result",
          "data": {
            "text/plain": [
              "      Unnamed: 0 Profile Name           Start Time  Duration  \\\n",
              "89            89        Chona  2022-07-16 22:28:48  01:40:03   \n",
              "134          134        Chona  2022-05-01 00:15:24  00:00:17   \n",
              "135          135        Chona  2022-05-01 00:14:32  00:00:21   \n",
              "138          138        Chona  2022-05-01 00:12:46  00:00:26   \n",
              "145          145        Chona  2022-04-17 02:08:02  00:00:06   \n",
              "...          ...          ...                  ...       ...   \n",
              "6162       12868        Chona  2015-01-20 00:49:39  01:29:21   \n",
              "6163       12869        Chona  2015-01-20 00:20:46  00:00:32   \n",
              "6188       12894        Chona  2015-01-16 00:48:04  01:34:02   \n",
              "6189       12895        Chona  2015-01-16 00:30:53  00:00:01   \n",
              "6190       12896        Chona  2015-01-16 00:19:51  00:00:19   \n",
              "\n",
              "                           Attributes  \\\n",
              "89                                NaN   \n",
              "134   Autoplayed: user action: None;    \n",
              "135   Autoplayed: user action: None;    \n",
              "138   Autoplayed: user action: None;    \n",
              "145   Autoplayed: user action: None;    \n",
              "...                               ...   \n",
              "6162                              NaN   \n",
              "6163                              NaN   \n",
              "6188                              NaN   \n",
              "6189                              NaN   \n",
              "6190                              NaN   \n",
              "\n",
              "                                                  Title  \\\n",
              "89                                           Mr. Holmes   \n",
              "134                The Spy: Limited Series_hook_03_16x9   \n",
              "135                    Shutter Island_hook_primary_16x9   \n",
              "138                                  Drive_hook_06_16x9   \n",
              "145   Fast & Furious Presents: Hobbs & Shaw_hook_01_...   \n",
              "...                                                 ...   \n",
              "6162                     Flubber y el profesor chiflado   \n",
              "6163                  Toy Story: una historia de terror   \n",
              "6188                                      Pesos pesados   \n",
              "6189                                      Pesos pesados   \n",
              "6190            Mighty Morphin Power Rangers: The Movie   \n",
              "\n",
              "     Supplemental Video Type                Device Type  Bookmark  \\\n",
              "89                       NaN  Apple Apple TV 4 Apple TV  01:39:52   \n",
              "134                     HOOK  Apple Apple TV 4 Apple TV  00:00:18   \n",
              "135                     HOOK  Apple Apple TV 4 Apple TV  00:00:22   \n",
              "138                     HOOK  Apple Apple TV 4 Apple TV  00:00:26   \n",
              "145                     HOOK  Apple Apple TV 4 Apple TV  00:00:07   \n",
              "...                      ...                        ...       ...   \n",
              "6162                     NaN       Apple TV 3 (revised)  01:29:21   \n",
              "6163                     NaN       Apple TV 3 (revised)  00:21:39   \n",
              "6188                     NaN       Apple TV 3 (revised)  01:34:01   \n",
              "6189                     NaN       Apple TV 3 (revised)  00:00:01   \n",
              "6190                     NaN       Apple TV 3 (revised)  00:00:19   \n",
              "\n",
              "      Latest Bookmark         Country   Type  \n",
              "89           01:39:52  AR (Argentina)  movie  \n",
              "134          00:00:18  AR (Argentina)  movie  \n",
              "135          00:00:22  AR (Argentina)  movie  \n",
              "138          00:00:26  AR (Argentina)  movie  \n",
              "145          00:00:07  AR (Argentina)  movie  \n",
              "...               ...             ...    ...  \n",
              "6162         01:29:21  AR (Argentina)  movie  \n",
              "6163         00:21:39  AR (Argentina)  movie  \n",
              "6188         01:34:01  AR (Argentina)  movie  \n",
              "6189  Not latest view  AR (Argentina)  movie  \n",
              "6190         00:00:19  AR (Argentina)  movie  \n",
              "\n",
              "[321 rows x 12 columns]"
            ],
            "text/html": [
              "\n",
              "  <div id=\"df-2f1a501b-b690-45a4-a722-057a0ca7ecc0\">\n",
              "    <div class=\"colab-df-container\">\n",
              "      <div>\n",
              "<style scoped>\n",
              "    .dataframe tbody tr th:only-of-type {\n",
              "        vertical-align: middle;\n",
              "    }\n",
              "\n",
              "    .dataframe tbody tr th {\n",
              "        vertical-align: top;\n",
              "    }\n",
              "\n",
              "    .dataframe thead th {\n",
              "        text-align: right;\n",
              "    }\n",
              "</style>\n",
              "<table border=\"1\" class=\"dataframe\">\n",
              "  <thead>\n",
              "    <tr style=\"text-align: right;\">\n",
              "      <th></th>\n",
              "      <th>Unnamed: 0</th>\n",
              "      <th>Profile Name</th>\n",
              "      <th>Start Time</th>\n",
              "      <th>Duration</th>\n",
              "      <th>Attributes</th>\n",
              "      <th>Title</th>\n",
              "      <th>Supplemental Video Type</th>\n",
              "      <th>Device Type</th>\n",
              "      <th>Bookmark</th>\n",
              "      <th>Latest Bookmark</th>\n",
              "      <th>Country</th>\n",
              "      <th>Type</th>\n",
              "    </tr>\n",
              "  </thead>\n",
              "  <tbody>\n",
              "    <tr>\n",
              "      <th>89</th>\n",
              "      <td>89</td>\n",
              "      <td>Chona</td>\n",
              "      <td>2022-07-16 22:28:48</td>\n",
              "      <td>01:40:03</td>\n",
              "      <td>NaN</td>\n",
              "      <td>Mr. Holmes</td>\n",
              "      <td>NaN</td>\n",
              "      <td>Apple Apple TV 4 Apple TV</td>\n",
              "      <td>01:39:52</td>\n",
              "      <td>01:39:52</td>\n",
              "      <td>AR (Argentina)</td>\n",
              "      <td>movie</td>\n",
              "    </tr>\n",
              "    <tr>\n",
              "      <th>134</th>\n",
              "      <td>134</td>\n",
              "      <td>Chona</td>\n",
              "      <td>2022-05-01 00:15:24</td>\n",
              "      <td>00:00:17</td>\n",
              "      <td>Autoplayed: user action: None;</td>\n",
              "      <td>The Spy: Limited Series_hook_03_16x9</td>\n",
              "      <td>HOOK</td>\n",
              "      <td>Apple Apple TV 4 Apple TV</td>\n",
              "      <td>00:00:18</td>\n",
              "      <td>00:00:18</td>\n",
              "      <td>AR (Argentina)</td>\n",
              "      <td>movie</td>\n",
              "    </tr>\n",
              "    <tr>\n",
              "      <th>135</th>\n",
              "      <td>135</td>\n",
              "      <td>Chona</td>\n",
              "      <td>2022-05-01 00:14:32</td>\n",
              "      <td>00:00:21</td>\n",
              "      <td>Autoplayed: user action: None;</td>\n",
              "      <td>Shutter Island_hook_primary_16x9</td>\n",
              "      <td>HOOK</td>\n",
              "      <td>Apple Apple TV 4 Apple TV</td>\n",
              "      <td>00:00:22</td>\n",
              "      <td>00:00:22</td>\n",
              "      <td>AR (Argentina)</td>\n",
              "      <td>movie</td>\n",
              "    </tr>\n",
              "    <tr>\n",
              "      <th>138</th>\n",
              "      <td>138</td>\n",
              "      <td>Chona</td>\n",
              "      <td>2022-05-01 00:12:46</td>\n",
              "      <td>00:00:26</td>\n",
              "      <td>Autoplayed: user action: None;</td>\n",
              "      <td>Drive_hook_06_16x9</td>\n",
              "      <td>HOOK</td>\n",
              "      <td>Apple Apple TV 4 Apple TV</td>\n",
              "      <td>00:00:26</td>\n",
              "      <td>00:00:26</td>\n",
              "      <td>AR (Argentina)</td>\n",
              "      <td>movie</td>\n",
              "    </tr>\n",
              "    <tr>\n",
              "      <th>145</th>\n",
              "      <td>145</td>\n",
              "      <td>Chona</td>\n",
              "      <td>2022-04-17 02:08:02</td>\n",
              "      <td>00:00:06</td>\n",
              "      <td>Autoplayed: user action: None;</td>\n",
              "      <td>Fast &amp; Furious Presents: Hobbs &amp; Shaw_hook_01_...</td>\n",
              "      <td>HOOK</td>\n",
              "      <td>Apple Apple TV 4 Apple TV</td>\n",
              "      <td>00:00:07</td>\n",
              "      <td>00:00:07</td>\n",
              "      <td>AR (Argentina)</td>\n",
              "      <td>movie</td>\n",
              "    </tr>\n",
              "    <tr>\n",
              "      <th>...</th>\n",
              "      <td>...</td>\n",
              "      <td>...</td>\n",
              "      <td>...</td>\n",
              "      <td>...</td>\n",
              "      <td>...</td>\n",
              "      <td>...</td>\n",
              "      <td>...</td>\n",
              "      <td>...</td>\n",
              "      <td>...</td>\n",
              "      <td>...</td>\n",
              "      <td>...</td>\n",
              "      <td>...</td>\n",
              "    </tr>\n",
              "    <tr>\n",
              "      <th>6162</th>\n",
              "      <td>12868</td>\n",
              "      <td>Chona</td>\n",
              "      <td>2015-01-20 00:49:39</td>\n",
              "      <td>01:29:21</td>\n",
              "      <td>NaN</td>\n",
              "      <td>Flubber y el profesor chiflado</td>\n",
              "      <td>NaN</td>\n",
              "      <td>Apple TV 3 (revised)</td>\n",
              "      <td>01:29:21</td>\n",
              "      <td>01:29:21</td>\n",
              "      <td>AR (Argentina)</td>\n",
              "      <td>movie</td>\n",
              "    </tr>\n",
              "    <tr>\n",
              "      <th>6163</th>\n",
              "      <td>12869</td>\n",
              "      <td>Chona</td>\n",
              "      <td>2015-01-20 00:20:46</td>\n",
              "      <td>00:00:32</td>\n",
              "      <td>NaN</td>\n",
              "      <td>Toy Story: una historia de terror</td>\n",
              "      <td>NaN</td>\n",
              "      <td>Apple TV 3 (revised)</td>\n",
              "      <td>00:21:39</td>\n",
              "      <td>00:21:39</td>\n",
              "      <td>AR (Argentina)</td>\n",
              "      <td>movie</td>\n",
              "    </tr>\n",
              "    <tr>\n",
              "      <th>6188</th>\n",
              "      <td>12894</td>\n",
              "      <td>Chona</td>\n",
              "      <td>2015-01-16 00:48:04</td>\n",
              "      <td>01:34:02</td>\n",
              "      <td>NaN</td>\n",
              "      <td>Pesos pesados</td>\n",
              "      <td>NaN</td>\n",
              "      <td>Apple TV 3 (revised)</td>\n",
              "      <td>01:34:01</td>\n",
              "      <td>01:34:01</td>\n",
              "      <td>AR (Argentina)</td>\n",
              "      <td>movie</td>\n",
              "    </tr>\n",
              "    <tr>\n",
              "      <th>6189</th>\n",
              "      <td>12895</td>\n",
              "      <td>Chona</td>\n",
              "      <td>2015-01-16 00:30:53</td>\n",
              "      <td>00:00:01</td>\n",
              "      <td>NaN</td>\n",
              "      <td>Pesos pesados</td>\n",
              "      <td>NaN</td>\n",
              "      <td>Apple TV 3 (revised)</td>\n",
              "      <td>00:00:01</td>\n",
              "      <td>Not latest view</td>\n",
              "      <td>AR (Argentina)</td>\n",
              "      <td>movie</td>\n",
              "    </tr>\n",
              "    <tr>\n",
              "      <th>6190</th>\n",
              "      <td>12896</td>\n",
              "      <td>Chona</td>\n",
              "      <td>2015-01-16 00:19:51</td>\n",
              "      <td>00:00:19</td>\n",
              "      <td>NaN</td>\n",
              "      <td>Mighty Morphin Power Rangers: The Movie</td>\n",
              "      <td>NaN</td>\n",
              "      <td>Apple TV 3 (revised)</td>\n",
              "      <td>00:00:19</td>\n",
              "      <td>00:00:19</td>\n",
              "      <td>AR (Argentina)</td>\n",
              "      <td>movie</td>\n",
              "    </tr>\n",
              "  </tbody>\n",
              "</table>\n",
              "<p>321 rows × 12 columns</p>\n",
              "</div>\n",
              "      <button class=\"colab-df-convert\" onclick=\"convertToInteractive('df-2f1a501b-b690-45a4-a722-057a0ca7ecc0')\"\n",
              "              title=\"Convert this dataframe to an interactive table.\"\n",
              "              style=\"display:none;\">\n",
              "        \n",
              "  <svg xmlns=\"http://www.w3.org/2000/svg\" height=\"24px\"viewBox=\"0 0 24 24\"\n",
              "       width=\"24px\">\n",
              "    <path d=\"M0 0h24v24H0V0z\" fill=\"none\"/>\n",
              "    <path d=\"M18.56 5.44l.94 2.06.94-2.06 2.06-.94-2.06-.94-.94-2.06-.94 2.06-2.06.94zm-11 1L8.5 8.5l.94-2.06 2.06-.94-2.06-.94L8.5 2.5l-.94 2.06-2.06.94zm10 10l.94 2.06.94-2.06 2.06-.94-2.06-.94-.94-2.06-.94 2.06-2.06.94z\"/><path d=\"M17.41 7.96l-1.37-1.37c-.4-.4-.92-.59-1.43-.59-.52 0-1.04.2-1.43.59L10.3 9.45l-7.72 7.72c-.78.78-.78 2.05 0 2.83L4 21.41c.39.39.9.59 1.41.59.51 0 1.02-.2 1.41-.59l7.78-7.78 2.81-2.81c.8-.78.8-2.07 0-2.86zM5.41 20L4 18.59l7.72-7.72 1.47 1.35L5.41 20z\"/>\n",
              "  </svg>\n",
              "      </button>\n",
              "      \n",
              "  <style>\n",
              "    .colab-df-container {\n",
              "      display:flex;\n",
              "      flex-wrap:wrap;\n",
              "      gap: 12px;\n",
              "    }\n",
              "\n",
              "    .colab-df-convert {\n",
              "      background-color: #E8F0FE;\n",
              "      border: none;\n",
              "      border-radius: 50%;\n",
              "      cursor: pointer;\n",
              "      display: none;\n",
              "      fill: #1967D2;\n",
              "      height: 32px;\n",
              "      padding: 0 0 0 0;\n",
              "      width: 32px;\n",
              "    }\n",
              "\n",
              "    .colab-df-convert:hover {\n",
              "      background-color: #E2EBFA;\n",
              "      box-shadow: 0px 1px 2px rgba(60, 64, 67, 0.3), 0px 1px 3px 1px rgba(60, 64, 67, 0.15);\n",
              "      fill: #174EA6;\n",
              "    }\n",
              "\n",
              "    [theme=dark] .colab-df-convert {\n",
              "      background-color: #3B4455;\n",
              "      fill: #D2E3FC;\n",
              "    }\n",
              "\n",
              "    [theme=dark] .colab-df-convert:hover {\n",
              "      background-color: #434B5C;\n",
              "      box-shadow: 0px 1px 3px 1px rgba(0, 0, 0, 0.15);\n",
              "      filter: drop-shadow(0px 1px 2px rgba(0, 0, 0, 0.3));\n",
              "      fill: #FFFFFF;\n",
              "    }\n",
              "  </style>\n",
              "\n",
              "      <script>\n",
              "        const buttonEl =\n",
              "          document.querySelector('#df-2f1a501b-b690-45a4-a722-057a0ca7ecc0 button.colab-df-convert');\n",
              "        buttonEl.style.display =\n",
              "          google.colab.kernel.accessAllowed ? 'block' : 'none';\n",
              "\n",
              "        async function convertToInteractive(key) {\n",
              "          const element = document.querySelector('#df-2f1a501b-b690-45a4-a722-057a0ca7ecc0');\n",
              "          const dataTable =\n",
              "            await google.colab.kernel.invokeFunction('convertToInteractive',\n",
              "                                                     [key], {});\n",
              "          if (!dataTable) return;\n",
              "\n",
              "          const docLinkHtml = 'Like what you see? Visit the ' +\n",
              "            '<a target=\"_blank\" href=https://colab.research.google.com/notebooks/data_table.ipynb>data table notebook</a>'\n",
              "            + ' to learn more about interactive tables.';\n",
              "          element.innerHTML = '';\n",
              "          dataTable['output_type'] = 'display_data';\n",
              "          await google.colab.output.renderOutput(dataTable, element);\n",
              "          const docLink = document.createElement('div');\n",
              "          docLink.innerHTML = docLinkHtml;\n",
              "          element.appendChild(docLink);\n",
              "        }\n",
              "      </script>\n",
              "    </div>\n",
              "  </div>\n",
              "  "
            ]
          },
          "metadata": {},
          "execution_count": 23
        }
      ]
    },
    {
      "cell_type": "code",
      "source": [
        "history[history['Type']=='serie']"
      ],
      "metadata": {
        "colab": {
          "base_uri": "https://localhost:8080/",
          "height": 658
        },
        "id": "xq7Pl6ppcf3a",
        "outputId": "d371891c-2310-4ead-ab4f-4b83038c6580"
      },
      "execution_count": 39,
      "outputs": [
        {
          "output_type": "execute_result",
          "data": {
            "text/plain": [
              "      Unnamed: 0 Profile Name           Start Time  Duration Attributes  \\\n",
              "0              0        Chona  2022-08-21 19:54:53  00:02:54        NaN   \n",
              "1              1        Chona  2022-08-21 19:33:17  00:21:33        NaN   \n",
              "2              2        Chona  2022-08-21 19:11:40  00:21:28        NaN   \n",
              "3              3        Chona  2022-08-21 18:50:27  00:20:41        NaN   \n",
              "4              4        Chona  2022-08-21 18:16:34  00:21:20        NaN   \n",
              "...          ...          ...                  ...       ...        ...   \n",
              "6286       12992        Chona  2015-01-08 19:21:21  00:04:09        NaN   \n",
              "6287       12993        Chona  2015-01-08 19:20:47  00:00:15        NaN   \n",
              "6288       12994        Chona  2015-01-08 19:18:32  00:00:37        NaN   \n",
              "6289       12995        Chona  2015-01-08 19:16:45  00:00:18        NaN   \n",
              "6290       12996        Chona  2015-01-08 19:15:14  00:00:18        NaN   \n",
              "\n",
              "                                                  Title  \\\n",
              "0     Community: Temporada 3: Teoría del caos correc...   \n",
              "1     Community: Temporada 3: Ecología competitiva (...   \n",
              "2     Community: Temporada 3: Geografía del conflict...   \n",
              "3     Community: Temporada 2: Intermediate Documenta...   \n",
              "4     Community: Temporada 3: El documental (Capítul...   \n",
              "...                                                 ...   \n",
              "6286    Lost: Temporada 1: Éxodo: Parte 1 (Capítulo 23)   \n",
              "6287  Lost: Temporada 1: Nacida para correr (Capítul...   \n",
              "6288    Lost: Temporada 1: Éxodo: Parte 1 (Capítulo 23)   \n",
              "6289    Lost: Temporada 1: Éxodo: Parte 1 (Capítulo 23)   \n",
              "6290    Lost: Temporada 1: Éxodo: Parte 1 (Capítulo 23)   \n",
              "\n",
              "     Supplemental Video Type                Device Type  Bookmark  \\\n",
              "0                        NaN  Apple Apple TV 4 Apple TV  00:02:55   \n",
              "1                        NaN  Apple Apple TV 4 Apple TV  00:21:33   \n",
              "2                        NaN  Apple Apple TV 4 Apple TV  00:21:28   \n",
              "3                        NaN  Apple Apple TV 4 Apple TV  00:21:02   \n",
              "4                        NaN  Apple Apple TV 4 Apple TV  00:21:21   \n",
              "...                      ...                        ...       ...   \n",
              "6286                     NaN       Apple TV 3 (revised)  00:04:40   \n",
              "6287                     NaN       Apple TV 3 (revised)  00:00:14   \n",
              "6288                     NaN       Apple TV 3 (revised)  00:00:37   \n",
              "6289                     NaN       Apple TV 3 (revised)  00:00:18   \n",
              "6290                     NaN       Apple TV 3 (revised)  00:00:18   \n",
              "\n",
              "      Latest Bookmark         Country   Type  \n",
              "0            00:02:55  AR (Argentina)  serie  \n",
              "1            00:21:33  AR (Argentina)  serie  \n",
              "2            00:21:28  AR (Argentina)  serie  \n",
              "3            00:21:02  AR (Argentina)  serie  \n",
              "4            00:21:21  AR (Argentina)  serie  \n",
              "...               ...             ...    ...  \n",
              "6286  Not latest view  AR (Argentina)  serie  \n",
              "6287  Not latest view  AR (Argentina)  serie  \n",
              "6288  Not latest view  AR (Argentina)  serie  \n",
              "6289  Not latest view  AR (Argentina)  serie  \n",
              "6290  Not latest view  AR (Argentina)  serie  \n",
              "\n",
              "[5970 rows x 12 columns]"
            ],
            "text/html": [
              "\n",
              "  <div id=\"df-de1f2214-4d5c-44ba-a326-cc2794f687f4\">\n",
              "    <div class=\"colab-df-container\">\n",
              "      <div>\n",
              "<style scoped>\n",
              "    .dataframe tbody tr th:only-of-type {\n",
              "        vertical-align: middle;\n",
              "    }\n",
              "\n",
              "    .dataframe tbody tr th {\n",
              "        vertical-align: top;\n",
              "    }\n",
              "\n",
              "    .dataframe thead th {\n",
              "        text-align: right;\n",
              "    }\n",
              "</style>\n",
              "<table border=\"1\" class=\"dataframe\">\n",
              "  <thead>\n",
              "    <tr style=\"text-align: right;\">\n",
              "      <th></th>\n",
              "      <th>Unnamed: 0</th>\n",
              "      <th>Profile Name</th>\n",
              "      <th>Start Time</th>\n",
              "      <th>Duration</th>\n",
              "      <th>Attributes</th>\n",
              "      <th>Title</th>\n",
              "      <th>Supplemental Video Type</th>\n",
              "      <th>Device Type</th>\n",
              "      <th>Bookmark</th>\n",
              "      <th>Latest Bookmark</th>\n",
              "      <th>Country</th>\n",
              "      <th>Type</th>\n",
              "    </tr>\n",
              "  </thead>\n",
              "  <tbody>\n",
              "    <tr>\n",
              "      <th>0</th>\n",
              "      <td>0</td>\n",
              "      <td>Chona</td>\n",
              "      <td>2022-08-21 19:54:53</td>\n",
              "      <td>00:02:54</td>\n",
              "      <td>NaN</td>\n",
              "      <td>Community: Temporada 3: Teoría del caos correc...</td>\n",
              "      <td>NaN</td>\n",
              "      <td>Apple Apple TV 4 Apple TV</td>\n",
              "      <td>00:02:55</td>\n",
              "      <td>00:02:55</td>\n",
              "      <td>AR (Argentina)</td>\n",
              "      <td>serie</td>\n",
              "    </tr>\n",
              "    <tr>\n",
              "      <th>1</th>\n",
              "      <td>1</td>\n",
              "      <td>Chona</td>\n",
              "      <td>2022-08-21 19:33:17</td>\n",
              "      <td>00:21:33</td>\n",
              "      <td>NaN</td>\n",
              "      <td>Community: Temporada 3: Ecología competitiva (...</td>\n",
              "      <td>NaN</td>\n",
              "      <td>Apple Apple TV 4 Apple TV</td>\n",
              "      <td>00:21:33</td>\n",
              "      <td>00:21:33</td>\n",
              "      <td>AR (Argentina)</td>\n",
              "      <td>serie</td>\n",
              "    </tr>\n",
              "    <tr>\n",
              "      <th>2</th>\n",
              "      <td>2</td>\n",
              "      <td>Chona</td>\n",
              "      <td>2022-08-21 19:11:40</td>\n",
              "      <td>00:21:28</td>\n",
              "      <td>NaN</td>\n",
              "      <td>Community: Temporada 3: Geografía del conflict...</td>\n",
              "      <td>NaN</td>\n",
              "      <td>Apple Apple TV 4 Apple TV</td>\n",
              "      <td>00:21:28</td>\n",
              "      <td>00:21:28</td>\n",
              "      <td>AR (Argentina)</td>\n",
              "      <td>serie</td>\n",
              "    </tr>\n",
              "    <tr>\n",
              "      <th>3</th>\n",
              "      <td>3</td>\n",
              "      <td>Chona</td>\n",
              "      <td>2022-08-21 18:50:27</td>\n",
              "      <td>00:20:41</td>\n",
              "      <td>NaN</td>\n",
              "      <td>Community: Temporada 2: Intermediate Documenta...</td>\n",
              "      <td>NaN</td>\n",
              "      <td>Apple Apple TV 4 Apple TV</td>\n",
              "      <td>00:21:02</td>\n",
              "      <td>00:21:02</td>\n",
              "      <td>AR (Argentina)</td>\n",
              "      <td>serie</td>\n",
              "    </tr>\n",
              "    <tr>\n",
              "      <th>4</th>\n",
              "      <td>4</td>\n",
              "      <td>Chona</td>\n",
              "      <td>2022-08-21 18:16:34</td>\n",
              "      <td>00:21:20</td>\n",
              "      <td>NaN</td>\n",
              "      <td>Community: Temporada 3: El documental (Capítul...</td>\n",
              "      <td>NaN</td>\n",
              "      <td>Apple Apple TV 4 Apple TV</td>\n",
              "      <td>00:21:21</td>\n",
              "      <td>00:21:21</td>\n",
              "      <td>AR (Argentina)</td>\n",
              "      <td>serie</td>\n",
              "    </tr>\n",
              "    <tr>\n",
              "      <th>...</th>\n",
              "      <td>...</td>\n",
              "      <td>...</td>\n",
              "      <td>...</td>\n",
              "      <td>...</td>\n",
              "      <td>...</td>\n",
              "      <td>...</td>\n",
              "      <td>...</td>\n",
              "      <td>...</td>\n",
              "      <td>...</td>\n",
              "      <td>...</td>\n",
              "      <td>...</td>\n",
              "      <td>...</td>\n",
              "    </tr>\n",
              "    <tr>\n",
              "      <th>6286</th>\n",
              "      <td>12992</td>\n",
              "      <td>Chona</td>\n",
              "      <td>2015-01-08 19:21:21</td>\n",
              "      <td>00:04:09</td>\n",
              "      <td>NaN</td>\n",
              "      <td>Lost: Temporada 1: Éxodo: Parte 1 (Capítulo 23)</td>\n",
              "      <td>NaN</td>\n",
              "      <td>Apple TV 3 (revised)</td>\n",
              "      <td>00:04:40</td>\n",
              "      <td>Not latest view</td>\n",
              "      <td>AR (Argentina)</td>\n",
              "      <td>serie</td>\n",
              "    </tr>\n",
              "    <tr>\n",
              "      <th>6287</th>\n",
              "      <td>12993</td>\n",
              "      <td>Chona</td>\n",
              "      <td>2015-01-08 19:20:47</td>\n",
              "      <td>00:00:15</td>\n",
              "      <td>NaN</td>\n",
              "      <td>Lost: Temporada 1: Nacida para correr (Capítul...</td>\n",
              "      <td>NaN</td>\n",
              "      <td>Apple TV 3 (revised)</td>\n",
              "      <td>00:00:14</td>\n",
              "      <td>Not latest view</td>\n",
              "      <td>AR (Argentina)</td>\n",
              "      <td>serie</td>\n",
              "    </tr>\n",
              "    <tr>\n",
              "      <th>6288</th>\n",
              "      <td>12994</td>\n",
              "      <td>Chona</td>\n",
              "      <td>2015-01-08 19:18:32</td>\n",
              "      <td>00:00:37</td>\n",
              "      <td>NaN</td>\n",
              "      <td>Lost: Temporada 1: Éxodo: Parte 1 (Capítulo 23)</td>\n",
              "      <td>NaN</td>\n",
              "      <td>Apple TV 3 (revised)</td>\n",
              "      <td>00:00:37</td>\n",
              "      <td>Not latest view</td>\n",
              "      <td>AR (Argentina)</td>\n",
              "      <td>serie</td>\n",
              "    </tr>\n",
              "    <tr>\n",
              "      <th>6289</th>\n",
              "      <td>12995</td>\n",
              "      <td>Chona</td>\n",
              "      <td>2015-01-08 19:16:45</td>\n",
              "      <td>00:00:18</td>\n",
              "      <td>NaN</td>\n",
              "      <td>Lost: Temporada 1: Éxodo: Parte 1 (Capítulo 23)</td>\n",
              "      <td>NaN</td>\n",
              "      <td>Apple TV 3 (revised)</td>\n",
              "      <td>00:00:18</td>\n",
              "      <td>Not latest view</td>\n",
              "      <td>AR (Argentina)</td>\n",
              "      <td>serie</td>\n",
              "    </tr>\n",
              "    <tr>\n",
              "      <th>6290</th>\n",
              "      <td>12996</td>\n",
              "      <td>Chona</td>\n",
              "      <td>2015-01-08 19:15:14</td>\n",
              "      <td>00:00:18</td>\n",
              "      <td>NaN</td>\n",
              "      <td>Lost: Temporada 1: Éxodo: Parte 1 (Capítulo 23)</td>\n",
              "      <td>NaN</td>\n",
              "      <td>Apple TV 3 (revised)</td>\n",
              "      <td>00:00:18</td>\n",
              "      <td>Not latest view</td>\n",
              "      <td>AR (Argentina)</td>\n",
              "      <td>serie</td>\n",
              "    </tr>\n",
              "  </tbody>\n",
              "</table>\n",
              "<p>5970 rows × 12 columns</p>\n",
              "</div>\n",
              "      <button class=\"colab-df-convert\" onclick=\"convertToInteractive('df-de1f2214-4d5c-44ba-a326-cc2794f687f4')\"\n",
              "              title=\"Convert this dataframe to an interactive table.\"\n",
              "              style=\"display:none;\">\n",
              "        \n",
              "  <svg xmlns=\"http://www.w3.org/2000/svg\" height=\"24px\"viewBox=\"0 0 24 24\"\n",
              "       width=\"24px\">\n",
              "    <path d=\"M0 0h24v24H0V0z\" fill=\"none\"/>\n",
              "    <path d=\"M18.56 5.44l.94 2.06.94-2.06 2.06-.94-2.06-.94-.94-2.06-.94 2.06-2.06.94zm-11 1L8.5 8.5l.94-2.06 2.06-.94-2.06-.94L8.5 2.5l-.94 2.06-2.06.94zm10 10l.94 2.06.94-2.06 2.06-.94-2.06-.94-.94-2.06-.94 2.06-2.06.94z\"/><path d=\"M17.41 7.96l-1.37-1.37c-.4-.4-.92-.59-1.43-.59-.52 0-1.04.2-1.43.59L10.3 9.45l-7.72 7.72c-.78.78-.78 2.05 0 2.83L4 21.41c.39.39.9.59 1.41.59.51 0 1.02-.2 1.41-.59l7.78-7.78 2.81-2.81c.8-.78.8-2.07 0-2.86zM5.41 20L4 18.59l7.72-7.72 1.47 1.35L5.41 20z\"/>\n",
              "  </svg>\n",
              "      </button>\n",
              "      \n",
              "  <style>\n",
              "    .colab-df-container {\n",
              "      display:flex;\n",
              "      flex-wrap:wrap;\n",
              "      gap: 12px;\n",
              "    }\n",
              "\n",
              "    .colab-df-convert {\n",
              "      background-color: #E8F0FE;\n",
              "      border: none;\n",
              "      border-radius: 50%;\n",
              "      cursor: pointer;\n",
              "      display: none;\n",
              "      fill: #1967D2;\n",
              "      height: 32px;\n",
              "      padding: 0 0 0 0;\n",
              "      width: 32px;\n",
              "    }\n",
              "\n",
              "    .colab-df-convert:hover {\n",
              "      background-color: #E2EBFA;\n",
              "      box-shadow: 0px 1px 2px rgba(60, 64, 67, 0.3), 0px 1px 3px 1px rgba(60, 64, 67, 0.15);\n",
              "      fill: #174EA6;\n",
              "    }\n",
              "\n",
              "    [theme=dark] .colab-df-convert {\n",
              "      background-color: #3B4455;\n",
              "      fill: #D2E3FC;\n",
              "    }\n",
              "\n",
              "    [theme=dark] .colab-df-convert:hover {\n",
              "      background-color: #434B5C;\n",
              "      box-shadow: 0px 1px 3px 1px rgba(0, 0, 0, 0.15);\n",
              "      filter: drop-shadow(0px 1px 2px rgba(0, 0, 0, 0.3));\n",
              "      fill: #FFFFFF;\n",
              "    }\n",
              "  </style>\n",
              "\n",
              "      <script>\n",
              "        const buttonEl =\n",
              "          document.querySelector('#df-de1f2214-4d5c-44ba-a326-cc2794f687f4 button.colab-df-convert');\n",
              "        buttonEl.style.display =\n",
              "          google.colab.kernel.accessAllowed ? 'block' : 'none';\n",
              "\n",
              "        async function convertToInteractive(key) {\n",
              "          const element = document.querySelector('#df-de1f2214-4d5c-44ba-a326-cc2794f687f4');\n",
              "          const dataTable =\n",
              "            await google.colab.kernel.invokeFunction('convertToInteractive',\n",
              "                                                     [key], {});\n",
              "          if (!dataTable) return;\n",
              "\n",
              "          const docLinkHtml = 'Like what you see? Visit the ' +\n",
              "            '<a target=\"_blank\" href=https://colab.research.google.com/notebooks/data_table.ipynb>data table notebook</a>'\n",
              "            + ' to learn more about interactive tables.';\n",
              "          element.innerHTML = '';\n",
              "          dataTable['output_type'] = 'display_data';\n",
              "          await google.colab.output.renderOutput(dataTable, element);\n",
              "          const docLink = document.createElement('div');\n",
              "          docLink.innerHTML = docLinkHtml;\n",
              "          element.appendChild(docLink);\n",
              "        }\n",
              "      </script>\n",
              "    </div>\n",
              "  </div>\n",
              "  "
            ]
          },
          "metadata": {},
          "execution_count": 39
        }
      ]
    },
    {
      "cell_type": "code",
      "source": [
        "'''\n",
        "series = history[history['Type'] == 'serie']\n",
        "movies = history[history['Type'] == 'movie']\n",
        "del history['Type'], series['Type'], movies['Type']\n",
        "'''"
      ],
      "metadata": {
        "colab": {
          "base_uri": "https://localhost:8080/",
          "height": 36
        },
        "id": "3No1PuxjWuFn",
        "outputId": "8d5a10b4-1182-4001-e029-c33edfca63e2"
      },
      "execution_count": 38,
      "outputs": [
        {
          "output_type": "execute_result",
          "data": {
            "text/plain": [
              "\"\\nseries = history[history['Type'] == 'serie']\\nmovies = history[history['Type'] == 'movie']\\ndel history['Type'], series['Type'], movies['Type']\\n\""
            ],
            "application/vnd.google.colaboratory.intrinsic+json": {
              "type": "string"
            }
          },
          "metadata": {},
          "execution_count": 38
        }
      ]
    },
    {
      "cell_type": "markdown",
      "source": [
        "##Exercises"
      ],
      "metadata": {
        "id": "pjYFQwUwHThV"
      }
    },
    {
      "cell_type": "markdown",
      "source": [
        "###a) Contabilizar el dispositivo con el que más títulos se reprodujeron."
      ],
      "metadata": {
        "id": "V0fzAw35G-o6"
      }
    },
    {
      "cell_type": "code",
      "source": [
        "devices_compare = {}\n",
        "\n",
        "for dev in history['Device Type']:\n",
        "  if dev not in devices_compare:\n",
        "    devices_compare[dev] = 1\n",
        "  else:\n",
        "    devices_compare[dev] += 1\n",
        "\n",
        "max(devices_compare, key=devices_compare.get)"
      ],
      "metadata": {
        "id": "fNaIbrw0HC0_",
        "colab": {
          "base_uri": "https://localhost:8080/",
          "height": 36
        },
        "outputId": "a184e700-2a1d-452c-92aa-9e19decd81ca"
      },
      "execution_count": 6,
      "outputs": [
        {
          "output_type": "execute_result",
          "data": {
            "text/plain": [
              "'Apple Apple TV 4 Apple TV'"
            ],
            "application/vnd.google.colaboratory.intrinsic+json": {
              "type": "string"
            }
          },
          "metadata": {},
          "execution_count": 6
        }
      ]
    },
    {
      "cell_type": "markdown",
      "source": [
        "###b) Encontrar la película con más ocurrencias y la película con mayor duración total."
      ],
      "metadata": {
        "id": "WP27lLfy5bpP"
      }
    },
    {
      "cell_type": "code",
      "source": [
        "movies_compare = {}\n",
        "\n",
        "for mov in history.index:\n",
        "  if history[\"Type\"][mov] == \"movie\":\n",
        "    if history[\"Title\"][mov] not in movies_compare:\n",
        "      movies_compare[history[\"Title\"][mov]] = 1\n",
        "    else:\n",
        "      movies_compare[history[\"Title\"][mov]] += 1\n",
        "\n",
        "max(movies_compare, key=movies_compare.get)\n",
        "#movies_compare"
      ],
      "metadata": {
        "id": "oKOLZwVwLdMy",
        "colab": {
          "base_uri": "https://localhost:8080/",
          "height": 36
        },
        "outputId": "824d6eb9-1bc3-4270-9f53-1c431ad96517"
      },
      "execution_count": 29,
      "outputs": [
        {
          "output_type": "execute_result",
          "data": {
            "text/plain": [
              "'Star Wars: El Imperio contraataca'"
            ],
            "application/vnd.google.colaboratory.intrinsic+json": {
              "type": "string"
            }
          },
          "metadata": {},
          "execution_count": 29
        }
      ]
    },
    {
      "cell_type": "code",
      "source": [
        "movies_duration = {}\n",
        "\n",
        "for mov in history.index:\n",
        "  if history[\"Type\"][mov] == \"movie\":\n",
        "    if history[\"Title\"][mov] not in movies_duration:\n",
        "      movies_duration[history[\"Title\"][mov]] = toSeconds(history[\"Duration\"][mov])\n",
        "    else:\n",
        "      movies_duration[history[\"Title\"][mov]] += toSeconds(history[\"Duration\"][mov])\n",
        "\n",
        "max(movies_duration, key=movies_duration.get)\n",
        "#movies_duration"
      ],
      "metadata": {
        "colab": {
          "base_uri": "https://localhost:8080/",
          "height": 36
        },
        "id": "0fgNnSFlaujR",
        "outputId": "274a2a49-6cdd-4fe2-f43e-1f6d9cecfa52"
      },
      "execution_count": 67,
      "outputs": [
        {
          "output_type": "execute_result",
          "data": {
            "text/plain": [
              "'Star Wars: El Imperio contraataca'"
            ],
            "application/vnd.google.colaboratory.intrinsic+json": {
              "type": "string"
            }
          },
          "metadata": {},
          "execution_count": 67
        }
      ]
    },
    {
      "cell_type": "markdown",
      "source": [
        "###c) Generar un TOP “N” de series vistas y graficar."
      ],
      "metadata": {
        "id": "P0aNhf9Y5e9R"
      }
    },
    {
      "cell_type": "markdown",
      "source": [
        "####i) Por tiempo visto."
      ],
      "metadata": {
        "id": "5I-b1uiu5lqq"
      }
    },
    {
      "cell_type": "code",
      "source": [
        "temp, final = {}, {}\n",
        "temp = movies_duration\n",
        "for i in range(20):\n",
        "  final[max(temp, key=temp.get)] = temp[max(temp, key=temp.get)]\n",
        "  temp[max(temp, key=temp.get)] = 0\n",
        "keys = final.keys()\n",
        "values = final.values()\n",
        "plt.bar(keys, values)\n",
        "plt.xticks(rotation = 90)\n",
        "plt.show()"
      ],
      "metadata": {
        "id": "s_5RdrNc5k8G",
        "colab": {
          "base_uri": "https://localhost:8080/",
          "height": 423
        },
        "outputId": "12112618-f65a-406d-a24a-ad0b32a39c0a"
      },
      "execution_count": 68,
      "outputs": [
        {
          "output_type": "display_data",
          "data": {
            "text/plain": [
              "<Figure size 432x288 with 1 Axes>"
            ],
            "image/png": "[encoded data removed]"
          },
          "metadata": {
            "needs_background": "light"
          }
        }
      ]
    },
    {
      "cell_type": "markdown",
      "source": [
        "####ii) Por ocurrencias."
      ],
      "metadata": {
        "id": "5wD0V1ZX5qAR"
      }
    },
    {
      "cell_type": "code",
      "source": [],
      "metadata": {
        "id": "L0PROIwS5uda"
      },
      "execution_count": null,
      "outputs": []
    },
    {
      "cell_type": "markdown",
      "source": [
        "###d) Visualizar una semana de reproducciones genérica, en función a las reproducciones por día y por horario de todos los años."
      ],
      "metadata": {
        "id": "UokvhtTC5t5m"
      }
    },
    {
      "cell_type": "code",
      "source": [],
      "metadata": {
        "id": "VSObANRw57_P"
      },
      "execution_count": null,
      "outputs": []
    },
    {
      "cell_type": "markdown",
      "source": [
        "###e) Contabilizar la cantidad de títulos vistos por año, graficar su variación a través de los años."
      ],
      "metadata": {
        "id": "5spwyUo06Ati"
      }
    },
    {
      "cell_type": "code",
      "source": [],
      "metadata": {
        "id": "JvV1EaEC6CMN"
      },
      "execution_count": null,
      "outputs": []
    }
  ]
}