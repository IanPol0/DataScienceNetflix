{
  "nbformat": 4,
  "nbformat_minor": 0,
  "metadata": {
    "colab": {
      "provenance": [],
      "collapsed_sections": [],
      "include_colab_link": true
    },
    "kernelspec": {
      "name": "python3",
      "display_name": "Python 3"
    },
    "language_info": {
      "name": "python"
    }
  },
  "cells": [
    {
      "cell_type": "markdown",
      "metadata": {
        "id": "view-in-github",
        "colab_type": "text"
      },
      "source": [
        "<a href=\"https://colab.research.google.com/github/IanPol0/DataScienceNetflix/blob/main/DataScienceNetflix.ipynb\" target=\"_parent\"><img src=\"https://colab.research.google.com/assets/colab-badge.svg\" alt=\"Open In Colab\"/></a>"
      ]
    },
    {
      "cell_type": "markdown",
      "source": [
        "##LAS FUNCIONES EN CAMELCASE Y LAS VARIABLES EN SNAKECASE Y RESPETENLO\n",
        "##Los subtitulos en '##', Los ejercicios en '###'"
      ],
      "metadata": {
        "id": "rDwR75eSeM60"
      }
    },
    {
      "cell_type": "markdown",
      "source": [
        "#Trabajo Práctico Netflix\n",
        "Septiembre 2022"
      ],
      "metadata": {
        "id": "Ctl8A80kHIrn"
      }
    },
    {
      "cell_type": "markdown",
      "source": [
        "##Import"
      ],
      "metadata": {
        "id": "D5S8ztBv7NJX"
      }
    },
    {
      "cell_type": "code",
      "source": [
        "import pandas as pd\n",
        "import matplotlib.pyplot as plt\n",
        "import seaborn as sns"
      ],
      "metadata": {
        "id": "BmWfAz2XaV2Z"
      },
      "execution_count": 71,
      "outputs": []
    },
    {
      "cell_type": "code",
      "execution_count": 2,
      "metadata": {
        "id": "6Ac_H_VrV5BW"
      },
      "outputs": [],
      "source": [
        "url='https://raw.githubusercontent.com/IanPol0/DataScienceNetflix/main/NetflixHistory.csv'\n",
        "history = pd.read_csv(url)"
      ]
    },
    {
      "cell_type": "markdown",
      "source": [
        "##Delete devices not required"
      ],
      "metadata": {
        "id": "Dri9bpF5BeBT"
      }
    },
    {
      "cell_type": "code",
      "source": [
        "devices_remove = ['Sony PS4', 'Netflix Windows App - Cadmium Windows Mobile', \n",
        "'Apple iPhone 6s', 'Apple iPhone 7 Plus (CDMA)', 'Chrome PC (Cadmium)', 'Samsung 2015 NT14M DTV Smart TV', \n",
        "'iPhone 5S GSM', 'Google Chromecast V3 Streaming Stick']\n",
        "\n",
        "#delete devices not required\n",
        "for device in devices_remove:\n",
        "  #print(len(history), device)\n",
        "  history = history.drop(history.index[history['Device Type'] == device], inplace=False)\n",
        "  history = history.reset_index(drop=True)"
      ],
      "metadata": {
        "id": "wdgj0S33FUlg"
      },
      "execution_count": 4,
      "outputs": []
    },
    {
      "cell_type": "markdown",
      "source": [
        "##Adapt time"
      ],
      "metadata": {
        "id": "k0kMwHsAd0pP"
      }
    },
    {
      "cell_type": "code",
      "source": [
        "#returns hours, minutes and seconds in seconds\n",
        "def toSeconds(time_str):\n",
        "  h, m, s = time_str.split(':')\n",
        "  return int(h) * 3600 + int(m) * 60 + int(s)"
      ],
      "metadata": {
        "id": "v7nGK8OEd6jj"
      },
      "execution_count": 5,
      "outputs": []
    },
    {
      "cell_type": "markdown",
      "source": [
        "##Divide series and movies"
      ],
      "metadata": {
        "id": "ClCgc_08Wn7F"
      }
    },
    {
      "cell_type": "code",
      "source": [
        "for i in range(len(history['Title'])):\n",
        "  if history['Title'][i].__contains__('Temporada'):\n",
        "    history['Type'][i] = 'serie'\n",
        "  elif history['Title'][i].__contains__('Capítulo'): \n",
        "    history['Type'][i] = 'serie'\n",
        "  elif history['Title'][i].__contains__('Season'): \n",
        "    history['Type'][i] = 'serie'\n",
        "  elif history['Title'][i].__contains__('Clip'): \n",
        "    history['Type'][i] = 'serie'\n",
        "  elif history['Title'][i].__contains__('Resumen'): \n",
        "    history['Type'][i] = 'serie'\n",
        "  elif history['Title'][i].__contains__('Tráiler'): \n",
        "    history['Type'][i] = 'serie'\n",
        "  elif history['Title'][i].__contains__('Series'): \n",
        "    history['Type'][i] = 'serie'\n",
        "  else:\n",
        "    history['Type'][i] = 'movie'\n",
        "#agregar Limited Series"
      ],
      "metadata": {
        "id": "3BZnX3LkEFW0",
        "colab": {
          "base_uri": "https://localhost:8080/"
        },
        "outputId": "9fabeb4c-4cd0-448a-fffd-c5666d462cf9"
      },
      "execution_count": 10,
      "outputs": [
        {
          "output_type": "stream",
          "name": "stderr",
          "text": [
            "/usr/local/lib/python3.7/dist-packages/ipykernel_launcher.py:3: SettingWithCopyWarning: \n",
            "A value is trying to be set on a copy of a slice from a DataFrame\n",
            "\n",
            "See the caveats in the documentation: https://pandas.pydata.org/pandas-docs/stable/user_guide/indexing.html#returning-a-view-versus-a-copy\n",
            "  This is separate from the ipykernel package so we can avoid doing imports until\n",
            "/usr/local/lib/python3.7/dist-packages/ipykernel_launcher.py:7: SettingWithCopyWarning: \n",
            "A value is trying to be set on a copy of a slice from a DataFrame\n",
            "\n",
            "See the caveats in the documentation: https://pandas.pydata.org/pandas-docs/stable/user_guide/indexing.html#returning-a-view-versus-a-copy\n",
            "  import sys\n",
            "/usr/local/lib/python3.7/dist-packages/ipykernel_launcher.py:5: SettingWithCopyWarning: \n",
            "A value is trying to be set on a copy of a slice from a DataFrame\n",
            "\n",
            "See the caveats in the documentation: https://pandas.pydata.org/pandas-docs/stable/user_guide/indexing.html#returning-a-view-versus-a-copy\n",
            "  \"\"\"\n",
            "/usr/local/lib/python3.7/dist-packages/ipykernel_launcher.py:9: SettingWithCopyWarning: \n",
            "A value is trying to be set on a copy of a slice from a DataFrame\n",
            "\n",
            "See the caveats in the documentation: https://pandas.pydata.org/pandas-docs/stable/user_guide/indexing.html#returning-a-view-versus-a-copy\n",
            "  if __name__ == '__main__':\n",
            "/usr/local/lib/python3.7/dist-packages/ipykernel_launcher.py:11: SettingWithCopyWarning: \n",
            "A value is trying to be set on a copy of a slice from a DataFrame\n",
            "\n",
            "See the caveats in the documentation: https://pandas.pydata.org/pandas-docs/stable/user_guide/indexing.html#returning-a-view-versus-a-copy\n",
            "  # This is added back by InteractiveShellApp.init_path()\n",
            "/usr/local/lib/python3.7/dist-packages/ipykernel_launcher.py:17: SettingWithCopyWarning: \n",
            "A value is trying to be set on a copy of a slice from a DataFrame\n",
            "\n",
            "See the caveats in the documentation: https://pandas.pydata.org/pandas-docs/stable/user_guide/indexing.html#returning-a-view-versus-a-copy\n",
            "/usr/local/lib/python3.7/dist-packages/ipykernel_launcher.py:13: SettingWithCopyWarning: \n",
            "A value is trying to be set on a copy of a slice from a DataFrame\n",
            "\n",
            "See the caveats in the documentation: https://pandas.pydata.org/pandas-docs/stable/user_guide/indexing.html#returning-a-view-versus-a-copy\n",
            "  del sys.path[0]\n",
            "/usr/local/lib/python3.7/dist-packages/ipykernel_launcher.py:15: SettingWithCopyWarning: \n",
            "A value is trying to be set on a copy of a slice from a DataFrame\n",
            "\n",
            "See the caveats in the documentation: https://pandas.pydata.org/pandas-docs/stable/user_guide/indexing.html#returning-a-view-versus-a-copy\n",
            "  from ipykernel import kernelapp as app\n"
          ]
        }
      ]
    },
    {
      "cell_type": "code",
      "source": [
        "series = history[history['Type'] == 'serie']\n",
        "movies = history[history['Type'] == 'movie']\n",
        "del history['Type'], series['Type'], movies['Type']"
      ],
      "metadata": {
        "id": "3No1PuxjWuFn"
      },
      "execution_count": 12,
      "outputs": []
    },
    {
      "cell_type": "markdown",
      "source": [
        "##Exercises"
      ],
      "metadata": {
        "id": "pjYFQwUwHThV"
      }
    },
    {
      "cell_type": "markdown",
      "source": [
        "###a) Contabilizar el dispositivo con el que más títulos se reprodujeron."
      ],
      "metadata": {
        "id": "V0fzAw35G-o6"
      }
    },
    {
      "cell_type": "code",
      "source": [
        "devices_compare = {}\n",
        "\n",
        "for dev in history['Device Type']:\n",
        "  if dev not in devices_compare:\n",
        "    devices_compare[dev] = 1\n",
        "  else:\n",
        "    devices_compare[dev] += 1\n",
        "\n",
        "max(devices_compare, key=devices_compare.get)"
      ],
      "metadata": {
        "id": "fNaIbrw0HC0_",
        "colab": {
          "base_uri": "https://localhost:8080/",
          "height": 35
        },
        "outputId": "4f6bceb5-7c15-4dec-df68-27b77cd78f20"
      },
      "execution_count": 13,
      "outputs": [
        {
          "output_type": "execute_result",
          "data": {
            "text/plain": [
              "'Apple Apple TV 4 Apple TV'"
            ],
            "application/vnd.google.colaboratory.intrinsic+json": {
              "type": "string"
            }
          },
          "metadata": {},
          "execution_count": 13
        }
      ]
    },
    {
      "cell_type": "markdown",
      "source": [
        "###b) Encontrar la película con más ocurrencias y la película con mayor duración total."
      ],
      "metadata": {
        "id": "WP27lLfy5bpP"
      }
    },
    {
      "cell_type": "code",
      "source": [
        "movies_compare = {}\n",
        "\n",
        "for mov in movies.index:\n",
        "  if movies[\"Title\"][mov] not in movies_compare:\n",
        "    movies_compare[movies[\"Title\"][mov]] = 1\n",
        "  else:\n",
        "    movies_compare[movies[\"Title\"][mov]] += 1\n",
        "\n",
        "max(movies_compare, key=movies_compare.get)\n",
        "#movies_compare"
      ],
      "metadata": {
        "id": "oKOLZwVwLdMy",
        "colab": {
          "base_uri": "https://localhost:8080/",
          "height": 35
        },
        "outputId": "c6383646-2cae-4763-8bf1-503df18ae438"
      },
      "execution_count": 15,
      "outputs": [
        {
          "output_type": "execute_result",
          "data": {
            "text/plain": [
              "'Star Wars: El Imperio contraataca'"
            ],
            "application/vnd.google.colaboratory.intrinsic+json": {
              "type": "string"
            }
          },
          "metadata": {},
          "execution_count": 15
        }
      ]
    },
    {
      "cell_type": "code",
      "source": [
        "movies_duration = {}\n",
        "\n",
        "for mov in movies.index:\n",
        "  if movies[\"Title\"][mov] not in movies_duration:\n",
        "    movies_duration[movies[\"Title\"][mov]] = toSeconds(movies[\"Duration\"][mov])\n",
        "  else:\n",
        "    movies_duration[movies[\"Title\"][mov]] += toSeconds(movies[\"Duration\"][mov])\n",
        "\n",
        "max(movies_duration, key=movies_duration.get)\n",
        "#movies_duration"
      ],
      "metadata": {
        "colab": {
          "base_uri": "https://localhost:8080/",
          "height": 35
        },
        "id": "0fgNnSFlaujR",
        "outputId": "691d75ad-e131-4709-fbe2-87ab8e401249"
      },
      "execution_count": 17,
      "outputs": [
        {
          "output_type": "execute_result",
          "data": {
            "text/plain": [
              "'Star Wars: El Imperio contraataca'"
            ],
            "application/vnd.google.colaboratory.intrinsic+json": {
              "type": "string"
            }
          },
          "metadata": {},
          "execution_count": 17
        }
      ]
    },
    {
      "cell_type": "markdown",
      "source": [
        "###c) Generar un TOP “N” de series vistas y graficar."
      ],
      "metadata": {
        "id": "P0aNhf9Y5e9R"
      }
    },
    {
      "cell_type": "markdown",
      "source": [
        "####i) Por tiempo visto."
      ],
      "metadata": {
        "id": "5I-b1uiu5lqq"
      }
    },
    {
      "cell_type": "code",
      "source": [
        "series_duration = {}\n",
        "nombre = \"\"\n",
        "for ser in series.index:\n",
        "  nombre = (series['Title'][ser].split(':'))[0]\n",
        "  if nombre not in series_duration:\n",
        "    series_duration[nombre] = toSeconds(series[\"Duration\"][ser])\n",
        "  else:\n",
        "    series_duration[nombre] += toSeconds(series[\"Duration\"][ser])\n",
        "\n",
        "max(series_duration, key=series_duration.get)"
      ],
      "metadata": {
        "colab": {
          "base_uri": "https://localhost:8080/",
          "height": 35
        },
        "id": "HKOEKTHrXJta",
        "outputId": "001000fd-e22e-4b85-dc7c-158ca81fa2d7"
      },
      "execution_count": 49,
      "outputs": [
        {
          "output_type": "execute_result",
          "data": {
            "text/plain": [
              "'Cómo conocí a tu madre'"
            ],
            "application/vnd.google.colaboratory.intrinsic+json": {
              "type": "string"
            }
          },
          "metadata": {},
          "execution_count": 49
        }
      ]
    },
    {
      "cell_type": "code",
      "source": [
        "temp, final = {}, {}\n",
        "temp = series_duration\n",
        "for i in range(20):\n",
        "  final[max(temp, key=temp.get)] = temp[max(temp, key=temp.get)]\n",
        "  temp[max(temp, key=temp.get)] = 0\n",
        "plt.bar(final.keys(), final.values())\n",
        "plt.xticks(rotation = 90)\n",
        "plt.show()"
      ],
      "metadata": {
        "id": "s_5RdrNc5k8G",
        "colab": {
          "base_uri": "https://localhost:8080/",
          "height": 377
        },
        "outputId": "a61e23cb-985c-4edc-fa16-5794e6080a51"
      },
      "execution_count": 50,
      "outputs": [
        {
          "output_type": "display_data",
          "data": {
            "text/plain": [
              "<Figure size 432x288 with 1 Axes>"
            ],
            "image/png": "[encoded data removed]"
          },
          "metadata": {
            "needs_background": "light"
          }
        }
      ]
    },
    {
      "cell_type": "markdown",
      "source": [
        "####ii) Por ocurrencias."
      ],
      "metadata": {
        "id": "5wD0V1ZX5qAR"
      }
    },
    {
      "cell_type": "code",
      "source": [
        "series_occurences = {}\n",
        "nombre = \"\"\n",
        "for ser in series.index:\n",
        "  nombre = (series['Title'][ser].split(':'))[0]\n",
        "  if nombre not in series_occurences:\n",
        "    series_occurences[nombre] = 1\n",
        "  else:\n",
        "    series_occurences[nombre] += 1\n",
        "\n",
        "max(series_occurences, key=series_occurences.get)"
      ],
      "metadata": {
        "colab": {
          "base_uri": "https://localhost:8080/",
          "height": 35
        },
        "id": "VNzrVWY3dntR",
        "outputId": "13a9e389-a33f-4563-f93b-2ff65407a11d"
      },
      "execution_count": 48,
      "outputs": [
        {
          "output_type": "execute_result",
          "data": {
            "text/plain": [
              "'Community'"
            ],
            "application/vnd.google.colaboratory.intrinsic+json": {
              "type": "string"
            }
          },
          "metadata": {},
          "execution_count": 48
        }
      ]
    },
    {
      "cell_type": "code",
      "source": [
        "temp2, final2 = {}, {}\n",
        "temp2 = series_occurences\n",
        "for i in range(20):\n",
        "  final2[max(temp2, key=temp2.get)] = temp2[max(temp2, key=temp2.get)]\n",
        "  temp2[max(temp2, key=temp2.get)] = 0\n",
        "plt.bar(final2.keys(), final2.values())\n",
        "plt.xticks(rotation = 90)\n",
        "plt.show()"
      ],
      "metadata": {
        "id": "L0PROIwS5uda",
        "colab": {
          "base_uri": "https://localhost:8080/",
          "height": 377
        },
        "outputId": "fb6d2df7-a4bb-4bbe-8cc4-c3323f2915d5"
      },
      "execution_count": 54,
      "outputs": [
        {
          "output_type": "display_data",
          "data": {
            "text/plain": [
              "<Figure size 432x288 with 1 Axes>"
            ],
            "image/png": "[encoded data removed]"
          },
          "metadata": {
            "needs_background": "light"
          }
        }
      ]
    },
    {
      "cell_type": "markdown",
      "source": [
        "###d) Visualizar una semana de reproducciones genérica, en función a las reproducciones por día y por horario de todos los años."
      ],
      "metadata": {
        "id": "UokvhtTC5t5m"
      }
    },
    {
      "cell_type": "code",
      "source": [],
      "metadata": {
        "id": "GjRiWzF4hU8w"
      },
      "execution_count": null,
      "outputs": []
    },
    {
      "cell_type": "markdown",
      "source": [
        "###e) Contabilizar la cantidad de títulos vistos por año, graficar su variación a través de los años."
      ],
      "metadata": {
        "id": "5spwyUo06Ati"
      }
    },
    {
      "cell_type": "code",
      "source": [
        "titulos_x_anio = {}\n",
        "anio = \"\"\n",
        "for ser in series.index:\n",
        "  anio = (series['Start Time'][ser].split('-'))[0]\n",
        "  if anio not in titulos_x_anio:\n",
        "    titulos_x_anio[anio] = 1\n",
        "  else:\n",
        "    titulos_x_anio[anio] += 1\n",
        " "
      ],
      "metadata": {
        "id": "JvV1EaEC6CMN"
      },
      "execution_count": 76,
      "outputs": []
    }
  ]
}