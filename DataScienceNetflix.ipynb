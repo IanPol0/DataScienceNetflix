{
  "nbformat": 4,
  "nbformat_minor": 0,
  "metadata": {
    "colab": {
      "provenance": [],
      "collapsed_sections": [],
      "include_colab_link": true
    },
    "kernelspec": {
      "name": "python3",
      "display_name": "Python 3"
    },
    "language_info": {
      "name": "python"
    }
  },
  "cells": [
    {
      "cell_type": "markdown",
      "metadata": {
        "id": "view-in-github",
        "colab_type": "text"
      },
      "source": [
        "<a href=\"https://colab.research.google.com/github/IanPol0/DataScienceNetflix/blob/main/DataScienceNetflix.ipynb\" target=\"_parent\"><img src=\"https://colab.research.google.com/assets/colab-badge.svg\" alt=\"Open In Colab\"/></a>"
      ]
    },
    {
      "cell_type": "markdown",
      "source": [
        "##LAS FUNCIONES EN CAMELCASE Y LAS VARIABLES EN SNAKECASE Y RESPETENLO\n",
        "##Los subtitulos en '##', Los ejercicios en '###'"
      ],
      "metadata": {
        "id": "rDwR75eSeM60"
      }
    },
    {
      "cell_type": "markdown",
      "source": [
        "#Trabajo Práctico Netflix\n",
        "Septiembre 2022"
      ],
      "metadata": {
        "id": "Ctl8A80kHIrn"
      }
    },
    {
      "cell_type": "markdown",
      "source": [
        "##Import"
      ],
      "metadata": {
        "id": "D5S8ztBv7NJX"
      }
    },
    {
      "cell_type": "code",
      "source": [
        "import pandas as pd\n",
        "import matplotlib.pyplot as plt\n",
        "import seaborn as sns\n",
        "from datetime import datetime\n",
        "import pytz"
      ],
      "metadata": {
        "id": "BmWfAz2XaV2Z"
      },
      "execution_count": 61,
      "outputs": []
    },
    {
      "cell_type": "code",
      "execution_count": 2,
      "metadata": {
        "id": "6Ac_H_VrV5BW"
      },
      "outputs": [],
      "source": [
        "url='https://raw.githubusercontent.com/IanPol0/DataScienceNetflix/main/NetflixHistory.csv'\n",
        "history = pd.read_csv(url)"
      ]
    },
    {
      "cell_type": "markdown",
      "source": [
        "##Delete devices not required"
      ],
      "metadata": {
        "id": "Dri9bpF5BeBT"
      }
    },
    {
      "cell_type": "code",
      "source": [
        "devices_remove = ['Sony PS4', 'Netflix Windows App - Cadmium Windows Mobile', \n",
        "'Apple iPhone 6s', 'Apple iPhone 7 Plus (CDMA)', 'Chrome PC (Cadmium)', 'Samsung 2015 NT14M DTV Smart TV', \n",
        "'iPhone 5S GSM', 'Google Chromecast V3 Streaming Stick']\n",
        "\n",
        "#delete devices not required\n",
        "for device in devices_remove:\n",
        "  #print(len(history), device)\n",
        "  history = history.drop(history.index[history['Device Type'] == device], inplace=False)\n",
        "  history = history.reset_index(drop=True)"
      ],
      "metadata": {
        "id": "wdgj0S33FUlg"
      },
      "execution_count": 3,
      "outputs": []
    },
    {
      "cell_type": "markdown",
      "source": [
        "##Adapt time"
      ],
      "metadata": {
        "id": "k0kMwHsAd0pP"
      }
    },
    {
      "cell_type": "code",
      "source": [
        "#returns hours, minutes and seconds in seconds\n",
        "def toSeconds(time_str):\n",
        "  h, m, s = time_str.split(':')\n",
        "  return int(h) * 3600 + int(m) * 60 + int(s)"
      ],
      "metadata": {
        "id": "v7nGK8OEd6jj"
      },
      "execution_count": 4,
      "outputs": []
    },
    {
      "cell_type": "markdown",
      "source": [
        "##Divide series and movies"
      ],
      "metadata": {
        "id": "ClCgc_08Wn7F"
      }
    },
    {
      "cell_type": "code",
      "source": [
        "identificator = []\n",
        "\n",
        "for i in range(len(history['Title'])):\n",
        "  if history['Title'][i].__contains__('Temporada'):\n",
        "    identificator.append('serie')\n",
        "  elif history['Title'][i].__contains__('Capítulo'): \n",
        "    identificator.append('serie')\n",
        "  elif history['Title'][i].__contains__('Season'): \n",
        "    identificator.append('serie')\n",
        "  elif history['Title'][i].__contains__('Clip'): \n",
        "    identificator.append('serie')\n",
        "  elif history['Title'][i].__contains__('Resumen'): \n",
        "    identificator.append('serie')\n",
        "  elif history['Title'][i].__contains__('Tráiler'): \n",
        "    identificator.append('serie')\n",
        "  elif history['Title'][i].__contains__('Series'): \n",
        "    identificator.append('serie')\n",
        "  else:\n",
        "    identificator.append('movie')\n",
        "\n",
        "history['Type'] = identificator"
      ],
      "metadata": {
        "id": "3BZnX3LkEFW0"
      },
      "execution_count": 20,
      "outputs": []
    },
    {
      "cell_type": "code",
      "source": [
        "series = history[history['Type'] == 'serie']\n",
        "movies = history[history['Type'] == 'movie']\n",
        "del history['Type'], series['Type'], movies['Type']"
      ],
      "metadata": {
        "id": "3No1PuxjWuFn"
      },
      "execution_count": 21,
      "outputs": []
    },
    {
      "cell_type": "code",
      "source": [
        "movies"
      ],
      "metadata": {
        "colab": {
          "base_uri": "https://localhost:8080/",
          "height": 424
        },
        "id": "pDJTHng-bjCm",
        "outputId": "7c19298c-3b07-47ca-e703-af3d33b3f281"
      },
      "execution_count": 22,
      "outputs": [
        {
          "output_type": "execute_result",
          "data": {
            "text/plain": [
              "      Unnamed: 0 Profile Name           Start Time  Duration  \\\n",
              "89            89        Chona  2022-07-16 22:28:48  01:40:03   \n",
              "135          135        Chona  2022-05-01 00:14:32  00:00:21   \n",
              "138          138        Chona  2022-05-01 00:12:46  00:00:26   \n",
              "145          145        Chona  2022-04-17 02:08:02  00:00:06   \n",
              "157          157        Chona  2022-03-29 01:35:31  00:38:51   \n",
              "...          ...          ...                  ...       ...   \n",
              "6162       12868        Chona  2015-01-20 00:49:39  01:29:21   \n",
              "6163       12869        Chona  2015-01-20 00:20:46  00:00:32   \n",
              "6188       12894        Chona  2015-01-16 00:48:04  01:34:02   \n",
              "6189       12895        Chona  2015-01-16 00:30:53  00:00:01   \n",
              "6190       12896        Chona  2015-01-16 00:19:51  00:00:19   \n",
              "\n",
              "                           Attributes  \\\n",
              "89                                NaN   \n",
              "135   Autoplayed: user action: None;    \n",
              "138   Autoplayed: user action: None;    \n",
              "145   Autoplayed: user action: None;    \n",
              "157                               NaN   \n",
              "...                               ...   \n",
              "6162                              NaN   \n",
              "6163                              NaN   \n",
              "6188                              NaN   \n",
              "6189                              NaN   \n",
              "6190                              NaN   \n",
              "\n",
              "                                                  Title  \\\n",
              "89                                           Mr. Holmes   \n",
              "135                    Shutter Island_hook_primary_16x9   \n",
              "138                                  Drive_hook_06_16x9   \n",
              "145   Fast & Furious Presents: Hobbs & Shaw_hook_01_...   \n",
              "157                        Baby: El aprendiz del crimen   \n",
              "...                                                 ...   \n",
              "6162                     Flubber y el profesor chiflado   \n",
              "6163                  Toy Story: una historia de terror   \n",
              "6188                                      Pesos pesados   \n",
              "6189                                      Pesos pesados   \n",
              "6190            Mighty Morphin Power Rangers: The Movie   \n",
              "\n",
              "     Supplemental Video Type                Device Type  Bookmark  \\\n",
              "89                       NaN  Apple Apple TV 4 Apple TV  01:39:52   \n",
              "135                     HOOK  Apple Apple TV 4 Apple TV  00:00:22   \n",
              "138                     HOOK  Apple Apple TV 4 Apple TV  00:00:26   \n",
              "145                     HOOK  Apple Apple TV 4 Apple TV  00:00:07   \n",
              "157                      NaN  Apple Apple TV 4 Apple TV  01:49:05   \n",
              "...                      ...                        ...       ...   \n",
              "6162                     NaN       Apple TV 3 (revised)  01:29:21   \n",
              "6163                     NaN       Apple TV 3 (revised)  00:21:39   \n",
              "6188                     NaN       Apple TV 3 (revised)  01:34:01   \n",
              "6189                     NaN       Apple TV 3 (revised)  00:00:01   \n",
              "6190                     NaN       Apple TV 3 (revised)  00:00:19   \n",
              "\n",
              "      Latest Bookmark         Country  \n",
              "89           01:39:52  AR (Argentina)  \n",
              "135          00:00:22  AR (Argentina)  \n",
              "138          00:00:26  AR (Argentina)  \n",
              "145          00:00:07  AR (Argentina)  \n",
              "157          01:49:05  AR (Argentina)  \n",
              "...               ...             ...  \n",
              "6162         01:29:21  AR (Argentina)  \n",
              "6163         00:21:39  AR (Argentina)  \n",
              "6188         01:34:01  AR (Argentina)  \n",
              "6189  Not latest view  AR (Argentina)  \n",
              "6190         00:00:19  AR (Argentina)  \n",
              "\n",
              "[320 rows x 11 columns]"
            ],
            "text/html": [
              "\n",
              "  <div id=\"df-c3465b11-09ff-4a2d-b5c8-68e930219842\">\n",
              "    <div class=\"colab-df-container\">\n",
              "      <div>\n",
              "<style scoped>\n",
              "    .dataframe tbody tr th:only-of-type {\n",
              "        vertical-align: middle;\n",
              "    }\n",
              "\n",
              "    .dataframe tbody tr th {\n",
              "        vertical-align: top;\n",
              "    }\n",
              "\n",
              "    .dataframe thead th {\n",
              "        text-align: right;\n",
              "    }\n",
              "</style>\n",
              "<table border=\"1\" class=\"dataframe\">\n",
              "  <thead>\n",
              "    <tr style=\"text-align: right;\">\n",
              "      <th></th>\n",
              "      <th>Unnamed: 0</th>\n",
              "      <th>Profile Name</th>\n",
              "      <th>Start Time</th>\n",
              "      <th>Duration</th>\n",
              "      <th>Attributes</th>\n",
              "      <th>Title</th>\n",
              "      <th>Supplemental Video Type</th>\n",
              "      <th>Device Type</th>\n",
              "      <th>Bookmark</th>\n",
              "      <th>Latest Bookmark</th>\n",
              "      <th>Country</th>\n",
              "    </tr>\n",
              "  </thead>\n",
              "  <tbody>\n",
              "    <tr>\n",
              "      <th>89</th>\n",
              "      <td>89</td>\n",
              "      <td>Chona</td>\n",
              "      <td>2022-07-16 22:28:48</td>\n",
              "      <td>01:40:03</td>\n",
              "      <td>NaN</td>\n",
              "      <td>Mr. Holmes</td>\n",
              "      <td>NaN</td>\n",
              "      <td>Apple Apple TV 4 Apple TV</td>\n",
              "      <td>01:39:52</td>\n",
              "      <td>01:39:52</td>\n",
              "      <td>AR (Argentina)</td>\n",
              "    </tr>\n",
              "    <tr>\n",
              "      <th>135</th>\n",
              "      <td>135</td>\n",
              "      <td>Chona</td>\n",
              "      <td>2022-05-01 00:14:32</td>\n",
              "      <td>00:00:21</td>\n",
              "      <td>Autoplayed: user action: None;</td>\n",
              "      <td>Shutter Island_hook_primary_16x9</td>\n",
              "      <td>HOOK</td>\n",
              "      <td>Apple Apple TV 4 Apple TV</td>\n",
              "      <td>00:00:22</td>\n",
              "      <td>00:00:22</td>\n",
              "      <td>AR (Argentina)</td>\n",
              "    </tr>\n",
              "    <tr>\n",
              "      <th>138</th>\n",
              "      <td>138</td>\n",
              "      <td>Chona</td>\n",
              "      <td>2022-05-01 00:12:46</td>\n",
              "      <td>00:00:26</td>\n",
              "      <td>Autoplayed: user action: None;</td>\n",
              "      <td>Drive_hook_06_16x9</td>\n",
              "      <td>HOOK</td>\n",
              "      <td>Apple Apple TV 4 Apple TV</td>\n",
              "      <td>00:00:26</td>\n",
              "      <td>00:00:26</td>\n",
              "      <td>AR (Argentina)</td>\n",
              "    </tr>\n",
              "    <tr>\n",
              "      <th>145</th>\n",
              "      <td>145</td>\n",
              "      <td>Chona</td>\n",
              "      <td>2022-04-17 02:08:02</td>\n",
              "      <td>00:00:06</td>\n",
              "      <td>Autoplayed: user action: None;</td>\n",
              "      <td>Fast &amp; Furious Presents: Hobbs &amp; Shaw_hook_01_...</td>\n",
              "      <td>HOOK</td>\n",
              "      <td>Apple Apple TV 4 Apple TV</td>\n",
              "      <td>00:00:07</td>\n",
              "      <td>00:00:07</td>\n",
              "      <td>AR (Argentina)</td>\n",
              "    </tr>\n",
              "    <tr>\n",
              "      <th>157</th>\n",
              "      <td>157</td>\n",
              "      <td>Chona</td>\n",
              "      <td>2022-03-29 01:35:31</td>\n",
              "      <td>00:38:51</td>\n",
              "      <td>NaN</td>\n",
              "      <td>Baby: El aprendiz del crimen</td>\n",
              "      <td>NaN</td>\n",
              "      <td>Apple Apple TV 4 Apple TV</td>\n",
              "      <td>01:49:05</td>\n",
              "      <td>01:49:05</td>\n",
              "      <td>AR (Argentina)</td>\n",
              "    </tr>\n",
              "    <tr>\n",
              "      <th>...</th>\n",
              "      <td>...</td>\n",
              "      <td>...</td>\n",
              "      <td>...</td>\n",
              "      <td>...</td>\n",
              "      <td>...</td>\n",
              "      <td>...</td>\n",
              "      <td>...</td>\n",
              "      <td>...</td>\n",
              "      <td>...</td>\n",
              "      <td>...</td>\n",
              "      <td>...</td>\n",
              "    </tr>\n",
              "    <tr>\n",
              "      <th>6162</th>\n",
              "      <td>12868</td>\n",
              "      <td>Chona</td>\n",
              "      <td>2015-01-20 00:49:39</td>\n",
              "      <td>01:29:21</td>\n",
              "      <td>NaN</td>\n",
              "      <td>Flubber y el profesor chiflado</td>\n",
              "      <td>NaN</td>\n",
              "      <td>Apple TV 3 (revised)</td>\n",
              "      <td>01:29:21</td>\n",
              "      <td>01:29:21</td>\n",
              "      <td>AR (Argentina)</td>\n",
              "    </tr>\n",
              "    <tr>\n",
              "      <th>6163</th>\n",
              "      <td>12869</td>\n",
              "      <td>Chona</td>\n",
              "      <td>2015-01-20 00:20:46</td>\n",
              "      <td>00:00:32</td>\n",
              "      <td>NaN</td>\n",
              "      <td>Toy Story: una historia de terror</td>\n",
              "      <td>NaN</td>\n",
              "      <td>Apple TV 3 (revised)</td>\n",
              "      <td>00:21:39</td>\n",
              "      <td>00:21:39</td>\n",
              "      <td>AR (Argentina)</td>\n",
              "    </tr>\n",
              "    <tr>\n",
              "      <th>6188</th>\n",
              "      <td>12894</td>\n",
              "      <td>Chona</td>\n",
              "      <td>2015-01-16 00:48:04</td>\n",
              "      <td>01:34:02</td>\n",
              "      <td>NaN</td>\n",
              "      <td>Pesos pesados</td>\n",
              "      <td>NaN</td>\n",
              "      <td>Apple TV 3 (revised)</td>\n",
              "      <td>01:34:01</td>\n",
              "      <td>01:34:01</td>\n",
              "      <td>AR (Argentina)</td>\n",
              "    </tr>\n",
              "    <tr>\n",
              "      <th>6189</th>\n",
              "      <td>12895</td>\n",
              "      <td>Chona</td>\n",
              "      <td>2015-01-16 00:30:53</td>\n",
              "      <td>00:00:01</td>\n",
              "      <td>NaN</td>\n",
              "      <td>Pesos pesados</td>\n",
              "      <td>NaN</td>\n",
              "      <td>Apple TV 3 (revised)</td>\n",
              "      <td>00:00:01</td>\n",
              "      <td>Not latest view</td>\n",
              "      <td>AR (Argentina)</td>\n",
              "    </tr>\n",
              "    <tr>\n",
              "      <th>6190</th>\n",
              "      <td>12896</td>\n",
              "      <td>Chona</td>\n",
              "      <td>2015-01-16 00:19:51</td>\n",
              "      <td>00:00:19</td>\n",
              "      <td>NaN</td>\n",
              "      <td>Mighty Morphin Power Rangers: The Movie</td>\n",
              "      <td>NaN</td>\n",
              "      <td>Apple TV 3 (revised)</td>\n",
              "      <td>00:00:19</td>\n",
              "      <td>00:00:19</td>\n",
              "      <td>AR (Argentina)</td>\n",
              "    </tr>\n",
              "  </tbody>\n",
              "</table>\n",
              "<p>320 rows × 11 columns</p>\n",
              "</div>\n",
              "      <button class=\"colab-df-convert\" onclick=\"convertToInteractive('df-c3465b11-09ff-4a2d-b5c8-68e930219842')\"\n",
              "              title=\"Convert this dataframe to an interactive table.\"\n",
              "              style=\"display:none;\">\n",
              "        \n",
              "  <svg xmlns=\"http://www.w3.org/2000/svg\" height=\"24px\"viewBox=\"0 0 24 24\"\n",
              "       width=\"24px\">\n",
              "    <path d=\"M0 0h24v24H0V0z\" fill=\"none\"/>\n",
              "    <path d=\"M18.56 5.44l.94 2.06.94-2.06 2.06-.94-2.06-.94-.94-2.06-.94 2.06-2.06.94zm-11 1L8.5 8.5l.94-2.06 2.06-.94-2.06-.94L8.5 2.5l-.94 2.06-2.06.94zm10 10l.94 2.06.94-2.06 2.06-.94-2.06-.94-.94-2.06-.94 2.06-2.06.94z\"/><path d=\"M17.41 7.96l-1.37-1.37c-.4-.4-.92-.59-1.43-.59-.52 0-1.04.2-1.43.59L10.3 9.45l-7.72 7.72c-.78.78-.78 2.05 0 2.83L4 21.41c.39.39.9.59 1.41.59.51 0 1.02-.2 1.41-.59l7.78-7.78 2.81-2.81c.8-.78.8-2.07 0-2.86zM5.41 20L4 18.59l7.72-7.72 1.47 1.35L5.41 20z\"/>\n",
              "  </svg>\n",
              "      </button>\n",
              "      \n",
              "  <style>\n",
              "    .colab-df-container {\n",
              "      display:flex;\n",
              "      flex-wrap:wrap;\n",
              "      gap: 12px;\n",
              "    }\n",
              "\n",
              "    .colab-df-convert {\n",
              "      background-color: #E8F0FE;\n",
              "      border: none;\n",
              "      border-radius: 50%;\n",
              "      cursor: pointer;\n",
              "      display: none;\n",
              "      fill: #1967D2;\n",
              "      height: 32px;\n",
              "      padding: 0 0 0 0;\n",
              "      width: 32px;\n",
              "    }\n",
              "\n",
              "    .colab-df-convert:hover {\n",
              "      background-color: #E2EBFA;\n",
              "      box-shadow: 0px 1px 2px rgba(60, 64, 67, 0.3), 0px 1px 3px 1px rgba(60, 64, 67, 0.15);\n",
              "      fill: #174EA6;\n",
              "    }\n",
              "\n",
              "    [theme=dark] .colab-df-convert {\n",
              "      background-color: #3B4455;\n",
              "      fill: #D2E3FC;\n",
              "    }\n",
              "\n",
              "    [theme=dark] .colab-df-convert:hover {\n",
              "      background-color: #434B5C;\n",
              "      box-shadow: 0px 1px 3px 1px rgba(0, 0, 0, 0.15);\n",
              "      filter: drop-shadow(0px 1px 2px rgba(0, 0, 0, 0.3));\n",
              "      fill: #FFFFFF;\n",
              "    }\n",
              "  </style>\n",
              "\n",
              "      <script>\n",
              "        const buttonEl =\n",
              "          document.querySelector('#df-c3465b11-09ff-4a2d-b5c8-68e930219842 button.colab-df-convert');\n",
              "        buttonEl.style.display =\n",
              "          google.colab.kernel.accessAllowed ? 'block' : 'none';\n",
              "\n",
              "        async function convertToInteractive(key) {\n",
              "          const element = document.querySelector('#df-c3465b11-09ff-4a2d-b5c8-68e930219842');\n",
              "          const dataTable =\n",
              "            await google.colab.kernel.invokeFunction('convertToInteractive',\n",
              "                                                     [key], {});\n",
              "          if (!dataTable) return;\n",
              "\n",
              "          const docLinkHtml = 'Like what you see? Visit the ' +\n",
              "            '<a target=\"_blank\" href=https://colab.research.google.com/notebooks/data_table.ipynb>data table notebook</a>'\n",
              "            + ' to learn more about interactive tables.';\n",
              "          element.innerHTML = '';\n",
              "          dataTable['output_type'] = 'display_data';\n",
              "          await google.colab.output.renderOutput(dataTable, element);\n",
              "          const docLink = document.createElement('div');\n",
              "          docLink.innerHTML = docLinkHtml;\n",
              "          element.appendChild(docLink);\n",
              "        }\n",
              "      </script>\n",
              "    </div>\n",
              "  </div>\n",
              "  "
            ]
          },
          "metadata": {},
          "execution_count": 22
        }
      ]
    },
    {
      "cell_type": "markdown",
      "source": [
        "##Exercises"
      ],
      "metadata": {
        "id": "pjYFQwUwHThV"
      }
    },
    {
      "cell_type": "markdown",
      "source": [
        "###a) Contabilizar el dispositivo con el que más títulos se reprodujeron."
      ],
      "metadata": {
        "id": "V0fzAw35G-o6"
      }
    },
    {
      "cell_type": "code",
      "source": [
        "devices_compare = {}\n",
        "\n",
        "for dev in history['Device Type']:\n",
        "  if dev not in devices_compare:\n",
        "    devices_compare[dev] = 1\n",
        "  else:\n",
        "    devices_compare[dev] += 1\n",
        "\n",
        "max(devices_compare, key=devices_compare.get)"
      ],
      "metadata": {
        "id": "fNaIbrw0HC0_",
        "colab": {
          "base_uri": "https://localhost:8080/",
          "height": 35
        },
        "outputId": "7905e899-fbb4-4732-c3e3-11b22805e3f0"
      },
      "execution_count": 23,
      "outputs": [
        {
          "output_type": "execute_result",
          "data": {
            "text/plain": [
              "'Apple Apple TV 4 Apple TV'"
            ],
            "application/vnd.google.colaboratory.intrinsic+json": {
              "type": "string"
            }
          },
          "metadata": {},
          "execution_count": 23
        }
      ]
    },
    {
      "cell_type": "markdown",
      "source": [
        "###b) Encontrar la película con más ocurrencias y la película con mayor duración total."
      ],
      "metadata": {
        "id": "WP27lLfy5bpP"
      }
    },
    {
      "cell_type": "code",
      "source": [
        "movies_compare = {}\n",
        "\n",
        "for mov in movies['Title']:\n",
        "  if mov not in movies_compare:\n",
        "    movies_compare[mov] = 1\n",
        "  else:\n",
        "    movies_compare[mov] += 1\n",
        "\n",
        "max(movies_compare, key=movies_compare.get)\n",
        "#movies_compare"
      ],
      "metadata": {
        "id": "oKOLZwVwLdMy",
        "colab": {
          "base_uri": "https://localhost:8080/",
          "height": 35
        },
        "outputId": "cacacbe0-4a7e-413e-f73d-54d705a197d4"
      },
      "execution_count": 24,
      "outputs": [
        {
          "output_type": "execute_result",
          "data": {
            "text/plain": [
              "'Star Wars: El Imperio contraataca'"
            ],
            "application/vnd.google.colaboratory.intrinsic+json": {
              "type": "string"
            }
          },
          "metadata": {},
          "execution_count": 24
        }
      ]
    },
    {
      "cell_type": "code",
      "source": [
        "movies_duration = {}\n",
        "\n",
        "for mov in movies.index:\n",
        "  if movies['Title'][mov] not in movies_duration:\n",
        "    movies_duration[movies['Title'][mov]] = toSeconds(movies['Duration'][mov])\n",
        "  else:\n",
        "    movies_duration[movies['Title'][mov]] += toSeconds(movies['Duration'][mov])\n",
        "\n",
        "max(movies_duration, key=movies_duration.get)\n",
        "#movies_duration"
      ],
      "metadata": {
        "colab": {
          "base_uri": "https://localhost:8080/",
          "height": 35
        },
        "id": "0fgNnSFlaujR",
        "outputId": "2b2a042f-b7aa-439d-fefe-0c5b5804562f"
      },
      "execution_count": 25,
      "outputs": [
        {
          "output_type": "execute_result",
          "data": {
            "text/plain": [
              "'Star Wars: El Imperio contraataca'"
            ],
            "application/vnd.google.colaboratory.intrinsic+json": {
              "type": "string"
            }
          },
          "metadata": {},
          "execution_count": 25
        }
      ]
    },
    {
      "cell_type": "markdown",
      "source": [
        "###c) Generar un TOP “N” de series vistas y graficar."
      ],
      "metadata": {
        "id": "P0aNhf9Y5e9R"
      }
    },
    {
      "cell_type": "markdown",
      "source": [
        "####i) Por tiempo visto."
      ],
      "metadata": {
        "id": "5I-b1uiu5lqq"
      }
    },
    {
      "cell_type": "code",
      "source": [
        "series_duration = {}\n",
        "name = ''\n",
        "\n",
        "for ser in series.index:\n",
        "  name = (series['Title'][ser].split(':'))[0]\n",
        "  if name not in series_duration:\n",
        "    series_duration[name] = toSeconds(series['Duration'][ser])\n",
        "  else:\n",
        "    series_duration[name] += toSeconds(series['Duration'][ser])\n",
        "\n",
        "max(series_duration, key=series_duration.get)"
      ],
      "metadata": {
        "colab": {
          "base_uri": "https://localhost:8080/",
          "height": 35
        },
        "id": "HKOEKTHrXJta",
        "outputId": "5a603415-5b5e-48b8-a8e1-7f574a51f126"
      },
      "execution_count": 26,
      "outputs": [
        {
          "output_type": "execute_result",
          "data": {
            "text/plain": [
              "'Cómo conocí a tu madre'"
            ],
            "application/vnd.google.colaboratory.intrinsic+json": {
              "type": "string"
            }
          },
          "metadata": {},
          "execution_count": 26
        }
      ]
    },
    {
      "cell_type": "code",
      "source": [
        "temp, final = {}, {}\n",
        "temp = series_duration\n",
        "for i in range(20):\n",
        "  final[max(temp, key=temp.get)] = temp[max(temp, key=temp.get)]\n",
        "  temp[max(temp, key=temp.get)] = 0\n",
        "plt.bar(final.keys(), final.values())\n",
        "plt.xticks(rotation = 90)\n",
        "plt.show()"
      ],
      "metadata": {
        "id": "s_5RdrNc5k8G",
        "colab": {
          "base_uri": "https://localhost:8080/",
          "height": 377
        },
        "outputId": "fe0a855f-c88a-4d8b-c228-0445de18b0a9"
      },
      "execution_count": 27,
      "outputs": [
        {
          "output_type": "display_data",
          "data": {
            "text/plain": [
              "<Figure size 432x288 with 1 Axes>"
            ],
            "image/png": "[encoded data removed]"
          },
          "metadata": {
            "needs_background": "light"
          }
        }
      ]
    },
    {
      "cell_type": "markdown",
      "source": [
        "####ii) Por ocurrencias."
      ],
      "metadata": {
        "id": "5wD0V1ZX5qAR"
      }
    },
    {
      "cell_type": "code",
      "source": [
        "series_occurences = {}\n",
        "name = ''\n",
        "\n",
        "for ser in series.index:\n",
        "  name = (series['Title'][ser].split(':'))[0]\n",
        "  if name not in series_occurences:\n",
        "    series_occurences[name] = 1\n",
        "  else:\n",
        "    series_occurences[name] += 1\n",
        "\n",
        "max(series_occurences, key=series_occurences.get)"
      ],
      "metadata": {
        "colab": {
          "base_uri": "https://localhost:8080/",
          "height": 35
        },
        "id": "VNzrVWY3dntR",
        "outputId": "b3c9df31-9171-495e-c328-67aff551bc9b"
      },
      "execution_count": 28,
      "outputs": [
        {
          "output_type": "execute_result",
          "data": {
            "text/plain": [
              "'Community'"
            ],
            "application/vnd.google.colaboratory.intrinsic+json": {
              "type": "string"
            }
          },
          "metadata": {},
          "execution_count": 28
        }
      ]
    },
    {
      "cell_type": "code",
      "source": [
        "temp2, final2 = {}, {}\n",
        "temp2 = series_occurences\n",
        "for i in range(20):\n",
        "  final2[max(temp2, key=temp2.get)] = temp2[max(temp2, key=temp2.get)]\n",
        "  temp2[max(temp2, key=temp2.get)] = 0\n",
        "plt.bar(final2.keys(), final2.values())\n",
        "plt.xticks(rotation = 90)\n",
        "plt.show()"
      ],
      "metadata": {
        "id": "L0PROIwS5uda",
        "colab": {
          "base_uri": "https://localhost:8080/",
          "height": 377
        },
        "outputId": "79916d3a-89c4-40f4-dffe-804f446a61cd"
      },
      "execution_count": 29,
      "outputs": [
        {
          "output_type": "display_data",
          "data": {
            "text/plain": [
              "<Figure size 432x288 with 1 Axes>"
            ],
            "image/png": "[encoded data removed]"
          },
          "metadata": {
            "needs_background": "light"
          }
        }
      ]
    },
    {
      "cell_type": "markdown",
      "source": [
        "###d) Visualizar una semana de reproducciones genérica, en función a las reproducciones por día y por horario de todos los años."
      ],
      "metadata": {
        "id": "UokvhtTC5t5m"
      }
    },
    {
      "cell_type": "code",
      "source": [
        "day = history['Start Time'][0]\n",
        "day = (day.split('-'))[0]+ '-' +(day.split('-'))[1]+ '-' +((day.split('-'))[2]).split()[0]\n",
        "day = datetime.strptime(day, \"%Y-%m-%d\")\n",
        "\n",
        "#dt = datetime.now(day)\n",
        "x = day.weekday()\n",
        "x"
      ],
      "metadata": {
        "id": "GjRiWzF4hU8w",
        "colab": {
          "base_uri": "https://localhost:8080/"
        },
        "outputId": "7c6b11ed-4500-4f78-de58-9f97df3ef493"
      },
      "execution_count": 63,
      "outputs": [
        {
          "output_type": "execute_result",
          "data": {
            "text/plain": [
              "6"
            ]
          },
          "metadata": {},
          "execution_count": 63
        }
      ]
    },
    {
      "cell_type": "markdown",
      "source": [
        "###e) Contabilizar la cantidad de títulos vistos por año, graficar su variación a través de los años."
      ],
      "metadata": {
        "id": "5spwyUo06Ati"
      }
    },
    {
      "cell_type": "code",
      "source": [
        "titulos_anios = {}\n",
        "anio = ''\n",
        "\n",
        "for title in history.index:\n",
        "  anio = (history['Start Time'][title].split('-'))[0]\n",
        "  if anio not in titulos_anios:\n",
        "    titulos_anios[anio] = 1\n",
        "  else:\n",
        "    titulos_anios[anio] += 1\n",
        "\n",
        "plt.bar(titulos_anios.keys(), titulos_anios.values())\n",
        "plt.xticks(rotation = 90)\n",
        "plt.show()"
      ],
      "metadata": {
        "id": "JvV1EaEC6CMN",
        "colab": {
          "base_uri": "https://localhost:8080/",
          "height": 281
        },
        "outputId": "922c190b-e05a-4fcb-85a1-e15b1d79733f"
      },
      "execution_count": 36,
      "outputs": [
        {
          "output_type": "display_data",
          "data": {
            "text/plain": [
              "<Figure size 432x288 with 1 Axes>"
            ],
            "image/png": "[encoded data removed]"
          },
          "metadata": {
            "needs_background": "light"
          }
        }
      ]
    },
    {
      "cell_type": "markdown",
      "source": [
        "###f) Total de días de todos los títulos reproducidos."
      ],
      "metadata": {
        "id": "BWyYF55ZnCQc"
      }
    },
    {
      "cell_type": "code",
      "source": [
        "total_days = []\n",
        "day = ''\n",
        "\n",
        "for day in history['Start Time']:\n",
        "  day = (day.split('-'))[0]+ '/' +(day.split('-'))[1]+ '/' +((day.split('-'))[2]).split()[0]\n",
        "  if day not in total_days:\n",
        "    total_days.append(day)\n",
        "\n",
        "len(total_days)"
      ],
      "metadata": {
        "colab": {
          "base_uri": "https://localhost:8080/"
        },
        "id": "HtVOWMzHnFx6",
        "outputId": "54a8bbde-478a-445a-b839-86777e17c098"
      },
      "execution_count": 45,
      "outputs": [
        {
          "output_type": "execute_result",
          "data": {
            "text/plain": [
              "928"
            ]
          },
          "metadata": {},
          "execution_count": 45
        }
      ]
    },
    {
      "cell_type": "markdown",
      "source": [
        "##Bonus"
      ],
      "metadata": {
        "id": "ryDQriLzqdYo"
      }
    },
    {
      "cell_type": "markdown",
      "source": [
        "###1. Identificar cuál fue la película de Star Wars más veces vista por duración."
      ],
      "metadata": {
        "id": "EppezCb7qfs8"
      }
    },
    {
      "cell_type": "code",
      "source": [
        "StarWars_duration = {}\n",
        "name = ''\n",
        "\n",
        "for mov in movies.index:\n",
        "  name = (movies['Title'][mov].split(':'))[0]\n",
        "  if name == 'Star Wars':\n",
        "    if movies['Title'][mov] not in StarWars_duration:\n",
        "      StarWars_duration[movies['Title'][mov]] = toSeconds(movies['Duration'][mov])\n",
        "    else:\n",
        "      StarWars_duration[movies['Title'][mov]] += toSeconds(movies['Duration'][mov])\n",
        "\n",
        "max(StarWars_duration, key=StarWars_duration.get)"
      ],
      "metadata": {
        "colab": {
          "base_uri": "https://localhost:8080/",
          "height": 35
        },
        "id": "Mh9TmtCIqkCN",
        "outputId": "99de20fb-ce5a-4ce7-b13d-fd341a43d316"
      },
      "execution_count": 46,
      "outputs": [
        {
          "output_type": "execute_result",
          "data": {
            "text/plain": [
              "'Star Wars: El Imperio contraataca'"
            ],
            "application/vnd.google.colaboratory.intrinsic+json": {
              "type": "string"
            }
          },
          "metadata": {},
          "execution_count": 46
        }
      ]
    }
  ]
}